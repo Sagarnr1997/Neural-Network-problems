{
 "cells": [
  {
   "cell_type": "code",
   "execution_count": 1,
   "id": "7b221513",
   "metadata": {},
   "outputs": [],
   "source": [
    "import pandas as pd\n",
    "import numpy as np\n",
    "from sklearn.preprocessing import LabelEncoder,minmax_scale\n",
    "from sklearn.model_selection import GridSearchCV, KFold\n",
    "from keras.models import Sequential\n",
    "from keras.layers import Dense\n",
    "from keras.wrappers.scikit_learn import KerasClassifier\n",
    "from keras.optimizers import adam_v2\n",
    "from tensorflow.keras.optimizers import Adam\n",
    "import warnings \n"
   ]
  },
  {
   "cell_type": "code",
   "execution_count": 2,
   "id": "109e4b0f",
   "metadata": {},
   "outputs": [],
   "source": [
    "warnings.filterwarnings('ignore')"
   ]
  },
  {
   "cell_type": "code",
   "execution_count": 3,
   "id": "9a4f25d5",
   "metadata": {},
   "outputs": [
    {
     "data": {
      "text/html": [
       "<div>\n",
       "<style scoped>\n",
       "    .dataframe tbody tr th:only-of-type {\n",
       "        vertical-align: middle;\n",
       "    }\n",
       "\n",
       "    .dataframe tbody tr th {\n",
       "        vertical-align: top;\n",
       "    }\n",
       "\n",
       "    .dataframe thead th {\n",
       "        text-align: right;\n",
       "    }\n",
       "</style>\n",
       "<table border=\"1\" class=\"dataframe\">\n",
       "  <thead>\n",
       "    <tr style=\"text-align: right;\">\n",
       "      <th></th>\n",
       "      <th>month</th>\n",
       "      <th>day</th>\n",
       "      <th>FFMC</th>\n",
       "      <th>DMC</th>\n",
       "      <th>DC</th>\n",
       "      <th>ISI</th>\n",
       "      <th>temp</th>\n",
       "      <th>RH</th>\n",
       "      <th>wind</th>\n",
       "      <th>rain</th>\n",
       "      <th>...</th>\n",
       "      <th>monthfeb</th>\n",
       "      <th>monthjan</th>\n",
       "      <th>monthjul</th>\n",
       "      <th>monthjun</th>\n",
       "      <th>monthmar</th>\n",
       "      <th>monthmay</th>\n",
       "      <th>monthnov</th>\n",
       "      <th>monthoct</th>\n",
       "      <th>monthsep</th>\n",
       "      <th>size_category</th>\n",
       "    </tr>\n",
       "  </thead>\n",
       "  <tbody>\n",
       "    <tr>\n",
       "      <th>0</th>\n",
       "      <td>mar</td>\n",
       "      <td>fri</td>\n",
       "      <td>86.2</td>\n",
       "      <td>26.2</td>\n",
       "      <td>94.3</td>\n",
       "      <td>5.1</td>\n",
       "      <td>8.2</td>\n",
       "      <td>51</td>\n",
       "      <td>6.7</td>\n",
       "      <td>0.0</td>\n",
       "      <td>...</td>\n",
       "      <td>0</td>\n",
       "      <td>0</td>\n",
       "      <td>0</td>\n",
       "      <td>0</td>\n",
       "      <td>1</td>\n",
       "      <td>0</td>\n",
       "      <td>0</td>\n",
       "      <td>0</td>\n",
       "      <td>0</td>\n",
       "      <td>small</td>\n",
       "    </tr>\n",
       "    <tr>\n",
       "      <th>1</th>\n",
       "      <td>oct</td>\n",
       "      <td>tue</td>\n",
       "      <td>90.6</td>\n",
       "      <td>35.4</td>\n",
       "      <td>669.1</td>\n",
       "      <td>6.7</td>\n",
       "      <td>18.0</td>\n",
       "      <td>33</td>\n",
       "      <td>0.9</td>\n",
       "      <td>0.0</td>\n",
       "      <td>...</td>\n",
       "      <td>0</td>\n",
       "      <td>0</td>\n",
       "      <td>0</td>\n",
       "      <td>0</td>\n",
       "      <td>0</td>\n",
       "      <td>0</td>\n",
       "      <td>0</td>\n",
       "      <td>1</td>\n",
       "      <td>0</td>\n",
       "      <td>small</td>\n",
       "    </tr>\n",
       "    <tr>\n",
       "      <th>2</th>\n",
       "      <td>oct</td>\n",
       "      <td>sat</td>\n",
       "      <td>90.6</td>\n",
       "      <td>43.7</td>\n",
       "      <td>686.9</td>\n",
       "      <td>6.7</td>\n",
       "      <td>14.6</td>\n",
       "      <td>33</td>\n",
       "      <td>1.3</td>\n",
       "      <td>0.0</td>\n",
       "      <td>...</td>\n",
       "      <td>0</td>\n",
       "      <td>0</td>\n",
       "      <td>0</td>\n",
       "      <td>0</td>\n",
       "      <td>0</td>\n",
       "      <td>0</td>\n",
       "      <td>0</td>\n",
       "      <td>1</td>\n",
       "      <td>0</td>\n",
       "      <td>small</td>\n",
       "    </tr>\n",
       "    <tr>\n",
       "      <th>3</th>\n",
       "      <td>mar</td>\n",
       "      <td>fri</td>\n",
       "      <td>91.7</td>\n",
       "      <td>33.3</td>\n",
       "      <td>77.5</td>\n",
       "      <td>9.0</td>\n",
       "      <td>8.3</td>\n",
       "      <td>97</td>\n",
       "      <td>4.0</td>\n",
       "      <td>0.2</td>\n",
       "      <td>...</td>\n",
       "      <td>0</td>\n",
       "      <td>0</td>\n",
       "      <td>0</td>\n",
       "      <td>0</td>\n",
       "      <td>1</td>\n",
       "      <td>0</td>\n",
       "      <td>0</td>\n",
       "      <td>0</td>\n",
       "      <td>0</td>\n",
       "      <td>small</td>\n",
       "    </tr>\n",
       "    <tr>\n",
       "      <th>4</th>\n",
       "      <td>mar</td>\n",
       "      <td>sun</td>\n",
       "      <td>89.3</td>\n",
       "      <td>51.3</td>\n",
       "      <td>102.2</td>\n",
       "      <td>9.6</td>\n",
       "      <td>11.4</td>\n",
       "      <td>99</td>\n",
       "      <td>1.8</td>\n",
       "      <td>0.0</td>\n",
       "      <td>...</td>\n",
       "      <td>0</td>\n",
       "      <td>0</td>\n",
       "      <td>0</td>\n",
       "      <td>0</td>\n",
       "      <td>1</td>\n",
       "      <td>0</td>\n",
       "      <td>0</td>\n",
       "      <td>0</td>\n",
       "      <td>0</td>\n",
       "      <td>small</td>\n",
       "    </tr>\n",
       "  </tbody>\n",
       "</table>\n",
       "<p>5 rows × 31 columns</p>\n",
       "</div>"
      ],
      "text/plain": [
       "  month  day  FFMC   DMC     DC  ISI  temp  RH  wind  rain  ...  monthfeb  \\\n",
       "0   mar  fri  86.2  26.2   94.3  5.1   8.2  51   6.7   0.0  ...         0   \n",
       "1   oct  tue  90.6  35.4  669.1  6.7  18.0  33   0.9   0.0  ...         0   \n",
       "2   oct  sat  90.6  43.7  686.9  6.7  14.6  33   1.3   0.0  ...         0   \n",
       "3   mar  fri  91.7  33.3   77.5  9.0   8.3  97   4.0   0.2  ...         0   \n",
       "4   mar  sun  89.3  51.3  102.2  9.6  11.4  99   1.8   0.0  ...         0   \n",
       "\n",
       "   monthjan  monthjul  monthjun  monthmar  monthmay  monthnov  monthoct  \\\n",
       "0         0         0         0         1         0         0         0   \n",
       "1         0         0         0         0         0         0         1   \n",
       "2         0         0         0         0         0         0         1   \n",
       "3         0         0         0         1         0         0         0   \n",
       "4         0         0         0         1         0         0         0   \n",
       "\n",
       "   monthsep  size_category  \n",
       "0         0          small  \n",
       "1         0          small  \n",
       "2         0          small  \n",
       "3         0          small  \n",
       "4         0          small  \n",
       "\n",
       "[5 rows x 31 columns]"
      ]
     },
     "execution_count": 3,
     "metadata": {},
     "output_type": "execute_result"
    }
   ],
   "source": [
    "df=pd.read_csv('forestfires.csv')\n",
    "df.head()"
   ]
  },
  {
   "cell_type": "code",
   "execution_count": 4,
   "id": "8c503377",
   "metadata": {},
   "outputs": [
    {
     "data": {
      "text/plain": [
       "(517, 31)"
      ]
     },
     "execution_count": 4,
     "metadata": {},
     "output_type": "execute_result"
    }
   ],
   "source": [
    "df.shape"
   ]
  },
  {
   "cell_type": "code",
   "execution_count": 5,
   "id": "bf12334c",
   "metadata": {},
   "outputs": [],
   "source": [
    "df['month']=LabelEncoder().fit_transform(df['month'])\n",
    "df['day']=LabelEncoder().fit_transform(df['day'])\n",
    "df['size_category']=LabelEncoder().fit_transform(df['size_category'])"
   ]
  },
  {
   "cell_type": "code",
   "execution_count": 6,
   "id": "ac1f92c1",
   "metadata": {},
   "outputs": [
    {
     "name": "stdout",
     "output_type": "stream",
     "text": [
      "<class 'pandas.core.frame.DataFrame'>\n",
      "RangeIndex: 517 entries, 0 to 516\n",
      "Data columns (total 31 columns):\n",
      " #   Column         Non-Null Count  Dtype  \n",
      "---  ------         --------------  -----  \n",
      " 0   month          517 non-null    int32  \n",
      " 1   day            517 non-null    int32  \n",
      " 2   FFMC           517 non-null    float64\n",
      " 3   DMC            517 non-null    float64\n",
      " 4   DC             517 non-null    float64\n",
      " 5   ISI            517 non-null    float64\n",
      " 6   temp           517 non-null    float64\n",
      " 7   RH             517 non-null    int64  \n",
      " 8   wind           517 non-null    float64\n",
      " 9   rain           517 non-null    float64\n",
      " 10  area           517 non-null    float64\n",
      " 11  dayfri         517 non-null    int64  \n",
      " 12  daymon         517 non-null    int64  \n",
      " 13  daysat         517 non-null    int64  \n",
      " 14  daysun         517 non-null    int64  \n",
      " 15  daythu         517 non-null    int64  \n",
      " 16  daytue         517 non-null    int64  \n",
      " 17  daywed         517 non-null    int64  \n",
      " 18  monthapr       517 non-null    int64  \n",
      " 19  monthaug       517 non-null    int64  \n",
      " 20  monthdec       517 non-null    int64  \n",
      " 21  monthfeb       517 non-null    int64  \n",
      " 22  monthjan       517 non-null    int64  \n",
      " 23  monthjul       517 non-null    int64  \n",
      " 24  monthjun       517 non-null    int64  \n",
      " 25  monthmar       517 non-null    int64  \n",
      " 26  monthmay       517 non-null    int64  \n",
      " 27  monthnov       517 non-null    int64  \n",
      " 28  monthoct       517 non-null    int64  \n",
      " 29  monthsep       517 non-null    int64  \n",
      " 30  size_category  517 non-null    int32  \n",
      "dtypes: float64(8), int32(3), int64(20)\n",
      "memory usage: 119.3 KB\n"
     ]
    }
   ],
   "source": [
    "df.info()"
   ]
  },
  {
   "cell_type": "code",
   "execution_count": 7,
   "id": "9685f7df",
   "metadata": {
    "scrolled": true
   },
   "outputs": [
    {
     "data": {
      "text/html": [
       "<div>\n",
       "<style scoped>\n",
       "    .dataframe tbody tr th:only-of-type {\n",
       "        vertical-align: middle;\n",
       "    }\n",
       "\n",
       "    .dataframe tbody tr th {\n",
       "        vertical-align: top;\n",
       "    }\n",
       "\n",
       "    .dataframe thead th {\n",
       "        text-align: right;\n",
       "    }\n",
       "</style>\n",
       "<table border=\"1\" class=\"dataframe\">\n",
       "  <thead>\n",
       "    <tr style=\"text-align: right;\">\n",
       "      <th></th>\n",
       "      <th>count</th>\n",
       "      <th>mean</th>\n",
       "      <th>std</th>\n",
       "      <th>min</th>\n",
       "      <th>25%</th>\n",
       "      <th>50%</th>\n",
       "      <th>75%</th>\n",
       "      <th>max</th>\n",
       "    </tr>\n",
       "  </thead>\n",
       "  <tbody>\n",
       "    <tr>\n",
       "      <th>month</th>\n",
       "      <td>517.0</td>\n",
       "      <td>5.758221</td>\n",
       "      <td>4.373275</td>\n",
       "      <td>0.0</td>\n",
       "      <td>1.0</td>\n",
       "      <td>6.00</td>\n",
       "      <td>11.00</td>\n",
       "      <td>11.00</td>\n",
       "    </tr>\n",
       "    <tr>\n",
       "      <th>day</th>\n",
       "      <td>517.0</td>\n",
       "      <td>2.736944</td>\n",
       "      <td>1.925061</td>\n",
       "      <td>0.0</td>\n",
       "      <td>1.0</td>\n",
       "      <td>3.00</td>\n",
       "      <td>4.00</td>\n",
       "      <td>6.00</td>\n",
       "    </tr>\n",
       "    <tr>\n",
       "      <th>FFMC</th>\n",
       "      <td>517.0</td>\n",
       "      <td>90.644681</td>\n",
       "      <td>5.520111</td>\n",
       "      <td>18.7</td>\n",
       "      <td>90.2</td>\n",
       "      <td>91.60</td>\n",
       "      <td>92.90</td>\n",
       "      <td>96.20</td>\n",
       "    </tr>\n",
       "    <tr>\n",
       "      <th>DMC</th>\n",
       "      <td>517.0</td>\n",
       "      <td>110.872340</td>\n",
       "      <td>64.046482</td>\n",
       "      <td>1.1</td>\n",
       "      <td>68.6</td>\n",
       "      <td>108.30</td>\n",
       "      <td>142.40</td>\n",
       "      <td>291.30</td>\n",
       "    </tr>\n",
       "    <tr>\n",
       "      <th>DC</th>\n",
       "      <td>517.0</td>\n",
       "      <td>547.940039</td>\n",
       "      <td>248.066192</td>\n",
       "      <td>7.9</td>\n",
       "      <td>437.7</td>\n",
       "      <td>664.20</td>\n",
       "      <td>713.90</td>\n",
       "      <td>860.60</td>\n",
       "    </tr>\n",
       "    <tr>\n",
       "      <th>ISI</th>\n",
       "      <td>517.0</td>\n",
       "      <td>9.021663</td>\n",
       "      <td>4.559477</td>\n",
       "      <td>0.0</td>\n",
       "      <td>6.5</td>\n",
       "      <td>8.40</td>\n",
       "      <td>10.80</td>\n",
       "      <td>56.10</td>\n",
       "    </tr>\n",
       "    <tr>\n",
       "      <th>temp</th>\n",
       "      <td>517.0</td>\n",
       "      <td>18.889168</td>\n",
       "      <td>5.806625</td>\n",
       "      <td>2.2</td>\n",
       "      <td>15.5</td>\n",
       "      <td>19.30</td>\n",
       "      <td>22.80</td>\n",
       "      <td>33.30</td>\n",
       "    </tr>\n",
       "    <tr>\n",
       "      <th>RH</th>\n",
       "      <td>517.0</td>\n",
       "      <td>44.288201</td>\n",
       "      <td>16.317469</td>\n",
       "      <td>15.0</td>\n",
       "      <td>33.0</td>\n",
       "      <td>42.00</td>\n",
       "      <td>53.00</td>\n",
       "      <td>100.00</td>\n",
       "    </tr>\n",
       "    <tr>\n",
       "      <th>wind</th>\n",
       "      <td>517.0</td>\n",
       "      <td>4.017602</td>\n",
       "      <td>1.791653</td>\n",
       "      <td>0.4</td>\n",
       "      <td>2.7</td>\n",
       "      <td>4.00</td>\n",
       "      <td>4.90</td>\n",
       "      <td>9.40</td>\n",
       "    </tr>\n",
       "    <tr>\n",
       "      <th>rain</th>\n",
       "      <td>517.0</td>\n",
       "      <td>0.021663</td>\n",
       "      <td>0.295959</td>\n",
       "      <td>0.0</td>\n",
       "      <td>0.0</td>\n",
       "      <td>0.00</td>\n",
       "      <td>0.00</td>\n",
       "      <td>6.40</td>\n",
       "    </tr>\n",
       "    <tr>\n",
       "      <th>area</th>\n",
       "      <td>517.0</td>\n",
       "      <td>12.847292</td>\n",
       "      <td>63.655818</td>\n",
       "      <td>0.0</td>\n",
       "      <td>0.0</td>\n",
       "      <td>0.52</td>\n",
       "      <td>6.57</td>\n",
       "      <td>1090.84</td>\n",
       "    </tr>\n",
       "    <tr>\n",
       "      <th>dayfri</th>\n",
       "      <td>517.0</td>\n",
       "      <td>0.164410</td>\n",
       "      <td>0.371006</td>\n",
       "      <td>0.0</td>\n",
       "      <td>0.0</td>\n",
       "      <td>0.00</td>\n",
       "      <td>0.00</td>\n",
       "      <td>1.00</td>\n",
       "    </tr>\n",
       "    <tr>\n",
       "      <th>daymon</th>\n",
       "      <td>517.0</td>\n",
       "      <td>0.143133</td>\n",
       "      <td>0.350548</td>\n",
       "      <td>0.0</td>\n",
       "      <td>0.0</td>\n",
       "      <td>0.00</td>\n",
       "      <td>0.00</td>\n",
       "      <td>1.00</td>\n",
       "    </tr>\n",
       "    <tr>\n",
       "      <th>daysat</th>\n",
       "      <td>517.0</td>\n",
       "      <td>0.162476</td>\n",
       "      <td>0.369244</td>\n",
       "      <td>0.0</td>\n",
       "      <td>0.0</td>\n",
       "      <td>0.00</td>\n",
       "      <td>0.00</td>\n",
       "      <td>1.00</td>\n",
       "    </tr>\n",
       "    <tr>\n",
       "      <th>daysun</th>\n",
       "      <td>517.0</td>\n",
       "      <td>0.183752</td>\n",
       "      <td>0.387657</td>\n",
       "      <td>0.0</td>\n",
       "      <td>0.0</td>\n",
       "      <td>0.00</td>\n",
       "      <td>0.00</td>\n",
       "      <td>1.00</td>\n",
       "    </tr>\n",
       "    <tr>\n",
       "      <th>daythu</th>\n",
       "      <td>517.0</td>\n",
       "      <td>0.117988</td>\n",
       "      <td>0.322907</td>\n",
       "      <td>0.0</td>\n",
       "      <td>0.0</td>\n",
       "      <td>0.00</td>\n",
       "      <td>0.00</td>\n",
       "      <td>1.00</td>\n",
       "    </tr>\n",
       "    <tr>\n",
       "      <th>daytue</th>\n",
       "      <td>517.0</td>\n",
       "      <td>0.123791</td>\n",
       "      <td>0.329662</td>\n",
       "      <td>0.0</td>\n",
       "      <td>0.0</td>\n",
       "      <td>0.00</td>\n",
       "      <td>0.00</td>\n",
       "      <td>1.00</td>\n",
       "    </tr>\n",
       "    <tr>\n",
       "      <th>daywed</th>\n",
       "      <td>517.0</td>\n",
       "      <td>0.104449</td>\n",
       "      <td>0.306138</td>\n",
       "      <td>0.0</td>\n",
       "      <td>0.0</td>\n",
       "      <td>0.00</td>\n",
       "      <td>0.00</td>\n",
       "      <td>1.00</td>\n",
       "    </tr>\n",
       "    <tr>\n",
       "      <th>monthapr</th>\n",
       "      <td>517.0</td>\n",
       "      <td>0.017408</td>\n",
       "      <td>0.130913</td>\n",
       "      <td>0.0</td>\n",
       "      <td>0.0</td>\n",
       "      <td>0.00</td>\n",
       "      <td>0.00</td>\n",
       "      <td>1.00</td>\n",
       "    </tr>\n",
       "    <tr>\n",
       "      <th>monthaug</th>\n",
       "      <td>517.0</td>\n",
       "      <td>0.355899</td>\n",
       "      <td>0.479249</td>\n",
       "      <td>0.0</td>\n",
       "      <td>0.0</td>\n",
       "      <td>0.00</td>\n",
       "      <td>1.00</td>\n",
       "      <td>1.00</td>\n",
       "    </tr>\n",
       "    <tr>\n",
       "      <th>monthdec</th>\n",
       "      <td>517.0</td>\n",
       "      <td>0.017408</td>\n",
       "      <td>0.130913</td>\n",
       "      <td>0.0</td>\n",
       "      <td>0.0</td>\n",
       "      <td>0.00</td>\n",
       "      <td>0.00</td>\n",
       "      <td>1.00</td>\n",
       "    </tr>\n",
       "    <tr>\n",
       "      <th>monthfeb</th>\n",
       "      <td>517.0</td>\n",
       "      <td>0.038685</td>\n",
       "      <td>0.193029</td>\n",
       "      <td>0.0</td>\n",
       "      <td>0.0</td>\n",
       "      <td>0.00</td>\n",
       "      <td>0.00</td>\n",
       "      <td>1.00</td>\n",
       "    </tr>\n",
       "    <tr>\n",
       "      <th>monthjan</th>\n",
       "      <td>517.0</td>\n",
       "      <td>0.003868</td>\n",
       "      <td>0.062137</td>\n",
       "      <td>0.0</td>\n",
       "      <td>0.0</td>\n",
       "      <td>0.00</td>\n",
       "      <td>0.00</td>\n",
       "      <td>1.00</td>\n",
       "    </tr>\n",
       "    <tr>\n",
       "      <th>monthjul</th>\n",
       "      <td>517.0</td>\n",
       "      <td>0.061896</td>\n",
       "      <td>0.241199</td>\n",
       "      <td>0.0</td>\n",
       "      <td>0.0</td>\n",
       "      <td>0.00</td>\n",
       "      <td>0.00</td>\n",
       "      <td>1.00</td>\n",
       "    </tr>\n",
       "    <tr>\n",
       "      <th>monthjun</th>\n",
       "      <td>517.0</td>\n",
       "      <td>0.032882</td>\n",
       "      <td>0.178500</td>\n",
       "      <td>0.0</td>\n",
       "      <td>0.0</td>\n",
       "      <td>0.00</td>\n",
       "      <td>0.00</td>\n",
       "      <td>1.00</td>\n",
       "    </tr>\n",
       "    <tr>\n",
       "      <th>monthmar</th>\n",
       "      <td>517.0</td>\n",
       "      <td>0.104449</td>\n",
       "      <td>0.306138</td>\n",
       "      <td>0.0</td>\n",
       "      <td>0.0</td>\n",
       "      <td>0.00</td>\n",
       "      <td>0.00</td>\n",
       "      <td>1.00</td>\n",
       "    </tr>\n",
       "    <tr>\n",
       "      <th>monthmay</th>\n",
       "      <td>517.0</td>\n",
       "      <td>0.003868</td>\n",
       "      <td>0.062137</td>\n",
       "      <td>0.0</td>\n",
       "      <td>0.0</td>\n",
       "      <td>0.00</td>\n",
       "      <td>0.00</td>\n",
       "      <td>1.00</td>\n",
       "    </tr>\n",
       "    <tr>\n",
       "      <th>monthnov</th>\n",
       "      <td>517.0</td>\n",
       "      <td>0.001934</td>\n",
       "      <td>0.043980</td>\n",
       "      <td>0.0</td>\n",
       "      <td>0.0</td>\n",
       "      <td>0.00</td>\n",
       "      <td>0.00</td>\n",
       "      <td>1.00</td>\n",
       "    </tr>\n",
       "    <tr>\n",
       "      <th>monthoct</th>\n",
       "      <td>517.0</td>\n",
       "      <td>0.029014</td>\n",
       "      <td>0.168007</td>\n",
       "      <td>0.0</td>\n",
       "      <td>0.0</td>\n",
       "      <td>0.00</td>\n",
       "      <td>0.00</td>\n",
       "      <td>1.00</td>\n",
       "    </tr>\n",
       "    <tr>\n",
       "      <th>monthsep</th>\n",
       "      <td>517.0</td>\n",
       "      <td>0.332689</td>\n",
       "      <td>0.471632</td>\n",
       "      <td>0.0</td>\n",
       "      <td>0.0</td>\n",
       "      <td>0.00</td>\n",
       "      <td>1.00</td>\n",
       "      <td>1.00</td>\n",
       "    </tr>\n",
       "    <tr>\n",
       "      <th>size_category</th>\n",
       "      <td>517.0</td>\n",
       "      <td>0.731141</td>\n",
       "      <td>0.443796</td>\n",
       "      <td>0.0</td>\n",
       "      <td>0.0</td>\n",
       "      <td>1.00</td>\n",
       "      <td>1.00</td>\n",
       "      <td>1.00</td>\n",
       "    </tr>\n",
       "  </tbody>\n",
       "</table>\n",
       "</div>"
      ],
      "text/plain": [
       "               count        mean         std   min    25%     50%     75%  \\\n",
       "month          517.0    5.758221    4.373275   0.0    1.0    6.00   11.00   \n",
       "day            517.0    2.736944    1.925061   0.0    1.0    3.00    4.00   \n",
       "FFMC           517.0   90.644681    5.520111  18.7   90.2   91.60   92.90   \n",
       "DMC            517.0  110.872340   64.046482   1.1   68.6  108.30  142.40   \n",
       "DC             517.0  547.940039  248.066192   7.9  437.7  664.20  713.90   \n",
       "ISI            517.0    9.021663    4.559477   0.0    6.5    8.40   10.80   \n",
       "temp           517.0   18.889168    5.806625   2.2   15.5   19.30   22.80   \n",
       "RH             517.0   44.288201   16.317469  15.0   33.0   42.00   53.00   \n",
       "wind           517.0    4.017602    1.791653   0.4    2.7    4.00    4.90   \n",
       "rain           517.0    0.021663    0.295959   0.0    0.0    0.00    0.00   \n",
       "area           517.0   12.847292   63.655818   0.0    0.0    0.52    6.57   \n",
       "dayfri         517.0    0.164410    0.371006   0.0    0.0    0.00    0.00   \n",
       "daymon         517.0    0.143133    0.350548   0.0    0.0    0.00    0.00   \n",
       "daysat         517.0    0.162476    0.369244   0.0    0.0    0.00    0.00   \n",
       "daysun         517.0    0.183752    0.387657   0.0    0.0    0.00    0.00   \n",
       "daythu         517.0    0.117988    0.322907   0.0    0.0    0.00    0.00   \n",
       "daytue         517.0    0.123791    0.329662   0.0    0.0    0.00    0.00   \n",
       "daywed         517.0    0.104449    0.306138   0.0    0.0    0.00    0.00   \n",
       "monthapr       517.0    0.017408    0.130913   0.0    0.0    0.00    0.00   \n",
       "monthaug       517.0    0.355899    0.479249   0.0    0.0    0.00    1.00   \n",
       "monthdec       517.0    0.017408    0.130913   0.0    0.0    0.00    0.00   \n",
       "monthfeb       517.0    0.038685    0.193029   0.0    0.0    0.00    0.00   \n",
       "monthjan       517.0    0.003868    0.062137   0.0    0.0    0.00    0.00   \n",
       "monthjul       517.0    0.061896    0.241199   0.0    0.0    0.00    0.00   \n",
       "monthjun       517.0    0.032882    0.178500   0.0    0.0    0.00    0.00   \n",
       "monthmar       517.0    0.104449    0.306138   0.0    0.0    0.00    0.00   \n",
       "monthmay       517.0    0.003868    0.062137   0.0    0.0    0.00    0.00   \n",
       "monthnov       517.0    0.001934    0.043980   0.0    0.0    0.00    0.00   \n",
       "monthoct       517.0    0.029014    0.168007   0.0    0.0    0.00    0.00   \n",
       "monthsep       517.0    0.332689    0.471632   0.0    0.0    0.00    1.00   \n",
       "size_category  517.0    0.731141    0.443796   0.0    0.0    1.00    1.00   \n",
       "\n",
       "                   max  \n",
       "month            11.00  \n",
       "day               6.00  \n",
       "FFMC             96.20  \n",
       "DMC             291.30  \n",
       "DC              860.60  \n",
       "ISI              56.10  \n",
       "temp             33.30  \n",
       "RH              100.00  \n",
       "wind              9.40  \n",
       "rain              6.40  \n",
       "area           1090.84  \n",
       "dayfri            1.00  \n",
       "daymon            1.00  \n",
       "daysat            1.00  \n",
       "daysun            1.00  \n",
       "daythu            1.00  \n",
       "daytue            1.00  \n",
       "daywed            1.00  \n",
       "monthapr          1.00  \n",
       "monthaug          1.00  \n",
       "monthdec          1.00  \n",
       "monthfeb          1.00  \n",
       "monthjan          1.00  \n",
       "monthjul          1.00  \n",
       "monthjun          1.00  \n",
       "monthmar          1.00  \n",
       "monthmay          1.00  \n",
       "monthnov          1.00  \n",
       "monthoct          1.00  \n",
       "monthsep          1.00  \n",
       "size_category     1.00  "
      ]
     },
     "execution_count": 7,
     "metadata": {},
     "output_type": "execute_result"
    }
   ],
   "source": [
    "df.describe().T"
   ]
  },
  {
   "cell_type": "code",
   "execution_count": 8,
   "id": "c9d3f039",
   "metadata": {},
   "outputs": [],
   "source": [
    "from sklearn.preprocessing import MinMaxScaler\n",
    "x=df.iloc[:,0:-1]\n",
    "y=df.iloc[:,-1]"
   ]
  },
  {
   "cell_type": "code",
   "execution_count": 9,
   "id": "6a774d01",
   "metadata": {},
   "outputs": [],
   "source": [
    "from sklearn.model_selection import train_test_split"
   ]
  },
  {
   "cell_type": "code",
   "execution_count": 10,
   "id": "daee346f",
   "metadata": {},
   "outputs": [],
   "source": [
    "X_train, X_test, y_train, y_test = train_test_split(x,y,random_state=0,test_size=0.3)"
   ]
  },
  {
   "cell_type": "code",
   "execution_count": 11,
   "id": "33b3b73e",
   "metadata": {},
   "outputs": [],
   "source": [
    "from sklearn.model_selection import GridSearchCV, KFold\n",
    "from keras.models import Sequential\n",
    "from keras.layers import Dense\n",
    "from keras.wrappers.scikit_learn import KerasClassifier\n",
    "from keras.optimizers import adam_v2\n",
    "from tensorflow.keras.optimizers import Adam"
   ]
  },
  {
   "cell_type": "markdown",
   "id": "8b2aa164",
   "metadata": {},
   "source": [
    "#hyper parameter tuning"
   ]
  },
  {
   "cell_type": "code",
   "execution_count": 12,
   "id": "36e94261",
   "metadata": {},
   "outputs": [
    {
     "name": "stdout",
     "output_type": "stream",
     "text": [
      "Fitting 5 folds for each of 36 candidates, totalling 180 fits\n",
      "[CV 1/5; 1/36] START batch_size=10, epochs=10, learning_rate=0.001..............\n",
      "[CV 1/5; 1/36] END batch_size=10, epochs=10, learning_rate=0.001;, score=0.973 total time=   3.7s\n",
      "[CV 2/5; 1/36] START batch_size=10, epochs=10, learning_rate=0.001..............\n",
      "[CV 2/5; 1/36] END batch_size=10, epochs=10, learning_rate=0.001;, score=0.917 total time=   2.0s\n",
      "[CV 3/5; 1/36] START batch_size=10, epochs=10, learning_rate=0.001..............\n",
      "[CV 3/5; 1/36] END batch_size=10, epochs=10, learning_rate=0.001;, score=0.986 total time=   1.9s\n",
      "[CV 4/5; 1/36] START batch_size=10, epochs=10, learning_rate=0.001..............\n",
      "[CV 4/5; 1/36] END batch_size=10, epochs=10, learning_rate=0.001;, score=0.917 total time=   1.7s\n",
      "[CV 5/5; 1/36] START batch_size=10, epochs=10, learning_rate=0.001..............\n",
      "[CV 5/5; 1/36] END batch_size=10, epochs=10, learning_rate=0.001;, score=0.875 total time=   1.7s\n",
      "[CV 1/5; 2/36] START batch_size=10, epochs=10, learning_rate=0.01...............\n",
      "[CV 1/5; 2/36] END batch_size=10, epochs=10, learning_rate=0.01;, score=0.973 total time=   1.6s\n",
      "[CV 2/5; 2/36] START batch_size=10, epochs=10, learning_rate=0.01...............\n",
      "[CV 2/5; 2/36] END batch_size=10, epochs=10, learning_rate=0.01;, score=1.000 total time=   1.6s\n",
      "[CV 3/5; 2/36] START batch_size=10, epochs=10, learning_rate=0.01...............\n",
      "[CV 3/5; 2/36] END batch_size=10, epochs=10, learning_rate=0.01;, score=0.958 total time=   1.6s\n",
      "[CV 4/5; 2/36] START batch_size=10, epochs=10, learning_rate=0.01...............\n",
      "[CV 4/5; 2/36] END batch_size=10, epochs=10, learning_rate=0.01;, score=0.958 total time=   1.6s\n",
      "[CV 5/5; 2/36] START batch_size=10, epochs=10, learning_rate=0.01...............\n",
      "[CV 5/5; 2/36] END batch_size=10, epochs=10, learning_rate=0.01;, score=0.889 total time=   2.0s\n",
      "[CV 1/5; 3/36] START batch_size=10, epochs=10, learning_rate=0.1................\n",
      "[CV 1/5; 3/36] END batch_size=10, epochs=10, learning_rate=0.1;, score=0.712 total time=   1.6s\n",
      "[CV 2/5; 3/36] START batch_size=10, epochs=10, learning_rate=0.1................\n",
      "[CV 2/5; 3/36] END batch_size=10, epochs=10, learning_rate=0.1;, score=0.736 total time=   1.6s\n",
      "[CV 3/5; 3/36] START batch_size=10, epochs=10, learning_rate=0.1................\n",
      "[CV 3/5; 3/36] END batch_size=10, epochs=10, learning_rate=0.1;, score=0.819 total time=   1.6s\n",
      "[CV 4/5; 3/36] START batch_size=10, epochs=10, learning_rate=0.1................\n",
      "[CV 4/5; 3/36] END batch_size=10, epochs=10, learning_rate=0.1;, score=0.708 total time=   1.6s\n",
      "[CV 5/5; 3/36] START batch_size=10, epochs=10, learning_rate=0.1................\n",
      "[CV 5/5; 3/36] END batch_size=10, epochs=10, learning_rate=0.1;, score=0.736 total time=   1.6s\n",
      "[CV 1/5; 4/36] START batch_size=10, epochs=50, learning_rate=0.001..............\n",
      "[CV 1/5; 4/36] END batch_size=10, epochs=50, learning_rate=0.001;, score=0.986 total time=   4.0s\n",
      "[CV 2/5; 4/36] START batch_size=10, epochs=50, learning_rate=0.001..............\n",
      "[CV 2/5; 4/36] END batch_size=10, epochs=50, learning_rate=0.001;, score=0.958 total time=   3.8s\n",
      "[CV 3/5; 4/36] START batch_size=10, epochs=50, learning_rate=0.001..............\n",
      "[CV 3/5; 4/36] END batch_size=10, epochs=50, learning_rate=0.001;, score=0.958 total time=   3.6s\n",
      "[CV 4/5; 4/36] START batch_size=10, epochs=50, learning_rate=0.001..............\n",
      "[CV 4/5; 4/36] END batch_size=10, epochs=50, learning_rate=0.001;, score=0.986 total time=   3.6s\n",
      "[CV 5/5; 4/36] START batch_size=10, epochs=50, learning_rate=0.001..............\n",
      "[CV 5/5; 4/36] END batch_size=10, epochs=50, learning_rate=0.001;, score=0.958 total time=   3.9s\n",
      "[CV 1/5; 5/36] START batch_size=10, epochs=50, learning_rate=0.01...............\n",
      "[CV 1/5; 5/36] END batch_size=10, epochs=50, learning_rate=0.01;, score=0.986 total time=   3.6s\n",
      "[CV 2/5; 5/36] START batch_size=10, epochs=50, learning_rate=0.01...............\n",
      "[CV 2/5; 5/36] END batch_size=10, epochs=50, learning_rate=0.01;, score=1.000 total time=   3.6s\n",
      "[CV 3/5; 5/36] START batch_size=10, epochs=50, learning_rate=0.01...............\n",
      "[CV 3/5; 5/36] END batch_size=10, epochs=50, learning_rate=0.01;, score=0.958 total time=   3.6s\n",
      "[CV 4/5; 5/36] START batch_size=10, epochs=50, learning_rate=0.01...............\n",
      "[CV 4/5; 5/36] END batch_size=10, epochs=50, learning_rate=0.01;, score=0.972 total time=   3.6s\n",
      "[CV 5/5; 5/36] START batch_size=10, epochs=50, learning_rate=0.01...............\n",
      "[CV 5/5; 5/36] END batch_size=10, epochs=50, learning_rate=0.01;, score=0.903 total time=   3.6s\n",
      "[CV 1/5; 6/36] START batch_size=10, epochs=50, learning_rate=0.1................\n",
      "[CV 1/5; 6/36] END batch_size=10, epochs=50, learning_rate=0.1;, score=0.712 total time=   3.6s\n",
      "[CV 2/5; 6/36] START batch_size=10, epochs=50, learning_rate=0.1................\n",
      "[CV 2/5; 6/36] END batch_size=10, epochs=50, learning_rate=0.1;, score=0.750 total time=   3.6s\n",
      "[CV 3/5; 6/36] START batch_size=10, epochs=50, learning_rate=0.1................\n",
      "[CV 3/5; 6/36] END batch_size=10, epochs=50, learning_rate=0.1;, score=0.819 total time=   3.6s\n",
      "[CV 4/5; 6/36] START batch_size=10, epochs=50, learning_rate=0.1................\n",
      "[CV 4/5; 6/36] END batch_size=10, epochs=50, learning_rate=0.1;, score=0.708 total time=   4.0s\n",
      "[CV 5/5; 6/36] START batch_size=10, epochs=50, learning_rate=0.1................\n",
      "[CV 5/5; 6/36] END batch_size=10, epochs=50, learning_rate=0.1;, score=0.736 total time=   3.6s\n",
      "[CV 1/5; 7/36] START batch_size=10, epochs=100, learning_rate=0.001.............\n",
      "[CV 1/5; 7/36] END batch_size=10, epochs=100, learning_rate=0.001;, score=1.000 total time=   6.1s\n",
      "[CV 2/5; 7/36] START batch_size=10, epochs=100, learning_rate=0.001.............\n",
      "[CV 2/5; 7/36] END batch_size=10, epochs=100, learning_rate=0.001;, score=0.972 total time=   6.1s\n",
      "[CV 3/5; 7/36] START batch_size=10, epochs=100, learning_rate=0.001.............\n",
      "[CV 3/5; 7/36] END batch_size=10, epochs=100, learning_rate=0.001;, score=0.986 total time=   6.2s\n",
      "[CV 4/5; 7/36] START batch_size=10, epochs=100, learning_rate=0.001.............\n",
      "[CV 4/5; 7/36] END batch_size=10, epochs=100, learning_rate=0.001;, score=0.986 total time=   6.2s\n",
      "[CV 5/5; 7/36] START batch_size=10, epochs=100, learning_rate=0.001.............\n",
      "[CV 5/5; 7/36] END batch_size=10, epochs=100, learning_rate=0.001;, score=0.958 total time=   6.1s\n",
      "[CV 1/5; 8/36] START batch_size=10, epochs=100, learning_rate=0.01..............\n",
      "[CV 1/5; 8/36] END batch_size=10, epochs=100, learning_rate=0.01;, score=0.986 total time=   6.3s\n",
      "[CV 2/5; 8/36] START batch_size=10, epochs=100, learning_rate=0.01..............\n",
      "[CV 2/5; 8/36] END batch_size=10, epochs=100, learning_rate=0.01;, score=1.000 total time=   6.1s\n",
      "[CV 3/5; 8/36] START batch_size=10, epochs=100, learning_rate=0.01..............\n",
      "[CV 3/5; 8/36] END batch_size=10, epochs=100, learning_rate=0.01;, score=0.986 total time=   6.2s\n",
      "[CV 4/5; 8/36] START batch_size=10, epochs=100, learning_rate=0.01..............\n",
      "[CV 4/5; 8/36] END batch_size=10, epochs=100, learning_rate=0.01;, score=0.986 total time=   6.2s\n",
      "[CV 5/5; 8/36] START batch_size=10, epochs=100, learning_rate=0.01..............\n",
      "[CV 5/5; 8/36] END batch_size=10, epochs=100, learning_rate=0.01;, score=0.958 total time=   6.5s\n",
      "[CV 1/5; 9/36] START batch_size=10, epochs=100, learning_rate=0.1...............\n",
      "[CV 1/5; 9/36] END batch_size=10, epochs=100, learning_rate=0.1;, score=0.712 total time=   6.2s\n",
      "[CV 2/5; 9/36] START batch_size=10, epochs=100, learning_rate=0.1...............\n",
      "[CV 2/5; 9/36] END batch_size=10, epochs=100, learning_rate=0.1;, score=0.736 total time=   6.0s\n",
      "[CV 3/5; 9/36] START batch_size=10, epochs=100, learning_rate=0.1...............\n",
      "[CV 3/5; 9/36] END batch_size=10, epochs=100, learning_rate=0.1;, score=0.819 total time=   6.2s\n",
      "[CV 4/5; 9/36] START batch_size=10, epochs=100, learning_rate=0.1...............\n",
      "[CV 4/5; 9/36] END batch_size=10, epochs=100, learning_rate=0.1;, score=0.708 total time=   6.1s\n",
      "[CV 5/5; 9/36] START batch_size=10, epochs=100, learning_rate=0.1...............\n",
      "[CV 5/5; 9/36] END batch_size=10, epochs=100, learning_rate=0.1;, score=0.736 total time=   6.2s\n",
      "[CV 1/5; 10/36] START batch_size=10, epochs=150, learning_rate=0.001............\n",
      "[CV 1/5; 10/36] END batch_size=10, epochs=150, learning_rate=0.001;, score=0.986 total time=   8.7s\n",
      "[CV 2/5; 10/36] START batch_size=10, epochs=150, learning_rate=0.001............\n"
     ]
    },
    {
     "name": "stdout",
     "output_type": "stream",
     "text": [
      "[CV 2/5; 10/36] END batch_size=10, epochs=150, learning_rate=0.001;, score=0.958 total time=   8.6s\n",
      "[CV 3/5; 10/36] START batch_size=10, epochs=150, learning_rate=0.001............\n",
      "[CV 3/5; 10/36] END batch_size=10, epochs=150, learning_rate=0.001;, score=0.986 total time=   8.7s\n",
      "[CV 4/5; 10/36] START batch_size=10, epochs=150, learning_rate=0.001............\n",
      "[CV 4/5; 10/36] END batch_size=10, epochs=150, learning_rate=0.001;, score=0.986 total time=   8.7s\n",
      "[CV 5/5; 10/36] START batch_size=10, epochs=150, learning_rate=0.001............\n",
      "[CV 5/5; 10/36] END batch_size=10, epochs=150, learning_rate=0.001;, score=0.944 total time=   8.6s\n",
      "[CV 1/5; 11/36] START batch_size=10, epochs=150, learning_rate=0.01.............\n",
      "[CV 1/5; 11/36] END batch_size=10, epochs=150, learning_rate=0.01;, score=1.000 total time=   8.9s\n",
      "[CV 2/5; 11/36] START batch_size=10, epochs=150, learning_rate=0.01.............\n",
      "[CV 2/5; 11/36] END batch_size=10, epochs=150, learning_rate=0.01;, score=0.903 total time=   8.6s\n",
      "[CV 3/5; 11/36] START batch_size=10, epochs=150, learning_rate=0.01.............\n",
      "[CV 3/5; 11/36] END batch_size=10, epochs=150, learning_rate=0.01;, score=1.000 total time=   8.5s\n",
      "[CV 4/5; 11/36] START batch_size=10, epochs=150, learning_rate=0.01.............\n",
      "[CV 4/5; 11/36] END batch_size=10, epochs=150, learning_rate=0.01;, score=0.972 total time=   8.5s\n",
      "[CV 5/5; 11/36] START batch_size=10, epochs=150, learning_rate=0.01.............\n",
      "[CV 5/5; 11/36] END batch_size=10, epochs=150, learning_rate=0.01;, score=0.958 total time=   8.7s\n",
      "[CV 1/5; 12/36] START batch_size=10, epochs=150, learning_rate=0.1..............\n",
      "[CV 1/5; 12/36] END batch_size=10, epochs=150, learning_rate=0.1;, score=0.712 total time=   8.7s\n",
      "[CV 2/5; 12/36] START batch_size=10, epochs=150, learning_rate=0.1..............\n",
      "[CV 2/5; 12/36] END batch_size=10, epochs=150, learning_rate=0.1;, score=0.736 total time=   8.5s\n",
      "[CV 3/5; 12/36] START batch_size=10, epochs=150, learning_rate=0.1..............\n",
      "[CV 3/5; 12/36] END batch_size=10, epochs=150, learning_rate=0.1;, score=0.819 total time=   8.6s\n",
      "[CV 4/5; 12/36] START batch_size=10, epochs=150, learning_rate=0.1..............\n",
      "[CV 4/5; 12/36] END batch_size=10, epochs=150, learning_rate=0.1;, score=0.708 total time=   8.5s\n",
      "[CV 5/5; 12/36] START batch_size=10, epochs=150, learning_rate=0.1..............\n",
      "[CV 5/5; 12/36] END batch_size=10, epochs=150, learning_rate=0.1;, score=0.736 total time=   8.6s\n",
      "[CV 1/5; 13/36] START batch_size=20, epochs=10, learning_rate=0.001.............\n",
      "[CV 1/5; 13/36] END batch_size=20, epochs=10, learning_rate=0.001;, score=0.918 total time=   1.7s\n",
      "[CV 2/5; 13/36] START batch_size=20, epochs=10, learning_rate=0.001.............\n",
      "[CV 2/5; 13/36] END batch_size=20, epochs=10, learning_rate=0.001;, score=0.917 total time=   1.4s\n",
      "[CV 3/5; 13/36] START batch_size=20, epochs=10, learning_rate=0.001.............\n",
      "[CV 3/5; 13/36] END batch_size=20, epochs=10, learning_rate=0.001;, score=0.931 total time=   1.4s\n",
      "[CV 4/5; 13/36] START batch_size=20, epochs=10, learning_rate=0.001.............\n",
      "[CV 4/5; 13/36] END batch_size=20, epochs=10, learning_rate=0.001;, score=0.944 total time=   1.4s\n",
      "[CV 5/5; 13/36] START batch_size=20, epochs=10, learning_rate=0.001.............\n",
      "[CV 5/5; 13/36] END batch_size=20, epochs=10, learning_rate=0.001;, score=0.861 total time=   1.4s\n",
      "[CV 1/5; 14/36] START batch_size=20, epochs=10, learning_rate=0.01..............\n",
      "[CV 1/5; 14/36] END batch_size=20, epochs=10, learning_rate=0.01;, score=1.000 total time=   1.4s\n",
      "[CV 2/5; 14/36] START batch_size=20, epochs=10, learning_rate=0.01..............\n",
      "[CV 2/5; 14/36] END batch_size=20, epochs=10, learning_rate=0.01;, score=1.000 total time=   1.4s\n",
      "[CV 3/5; 14/36] START batch_size=20, epochs=10, learning_rate=0.01..............\n",
      "[CV 3/5; 14/36] END batch_size=20, epochs=10, learning_rate=0.01;, score=0.944 total time=   1.4s\n",
      "[CV 4/5; 14/36] START batch_size=20, epochs=10, learning_rate=0.01..............\n",
      "[CV 4/5; 14/36] END batch_size=20, epochs=10, learning_rate=0.01;, score=1.000 total time=   1.4s\n",
      "[CV 5/5; 14/36] START batch_size=20, epochs=10, learning_rate=0.01..............\n",
      "[CV 5/5; 14/36] END batch_size=20, epochs=10, learning_rate=0.01;, score=0.861 total time=   1.4s\n",
      "[CV 1/5; 15/36] START batch_size=20, epochs=10, learning_rate=0.1...............\n",
      "[CV 1/5; 15/36] END batch_size=20, epochs=10, learning_rate=0.1;, score=0.712 total time=   1.4s\n",
      "[CV 2/5; 15/36] START batch_size=20, epochs=10, learning_rate=0.1...............\n",
      "[CV 2/5; 15/36] END batch_size=20, epochs=10, learning_rate=0.1;, score=0.736 total time=   1.7s\n",
      "[CV 3/5; 15/36] START batch_size=20, epochs=10, learning_rate=0.1...............\n",
      "[CV 3/5; 15/36] END batch_size=20, epochs=10, learning_rate=0.1;, score=0.819 total time=   1.4s\n",
      "[CV 4/5; 15/36] START batch_size=20, epochs=10, learning_rate=0.1...............\n",
      "[CV 4/5; 15/36] END batch_size=20, epochs=10, learning_rate=0.1;, score=0.708 total time=   1.4s\n",
      "[CV 5/5; 15/36] START batch_size=20, epochs=10, learning_rate=0.1...............\n",
      "[CV 5/5; 15/36] END batch_size=20, epochs=10, learning_rate=0.1;, score=0.736 total time=   1.4s\n",
      "[CV 1/5; 16/36] START batch_size=20, epochs=50, learning_rate=0.001.............\n",
      "[CV 1/5; 16/36] END batch_size=20, epochs=50, learning_rate=0.001;, score=0.986 total time=   2.5s\n",
      "[CV 2/5; 16/36] START batch_size=20, epochs=50, learning_rate=0.001.............\n",
      "[CV 2/5; 16/36] END batch_size=20, epochs=50, learning_rate=0.001;, score=0.986 total time=   2.5s\n",
      "[CV 3/5; 16/36] START batch_size=20, epochs=50, learning_rate=0.001.............\n",
      "[CV 3/5; 16/36] END batch_size=20, epochs=50, learning_rate=0.001;, score=0.986 total time=   2.5s\n",
      "[CV 4/5; 16/36] START batch_size=20, epochs=50, learning_rate=0.001.............\n",
      "[CV 4/5; 16/36] END batch_size=20, epochs=50, learning_rate=0.001;, score=0.903 total time=   2.4s\n",
      "[CV 5/5; 16/36] START batch_size=20, epochs=50, learning_rate=0.001.............\n",
      "[CV 5/5; 16/36] END batch_size=20, epochs=50, learning_rate=0.001;, score=0.958 total time=   2.5s\n",
      "[CV 1/5; 17/36] START batch_size=20, epochs=50, learning_rate=0.01..............\n",
      "[CV 1/5; 17/36] END batch_size=20, epochs=50, learning_rate=0.01;, score=0.986 total time=   2.5s\n",
      "[CV 2/5; 17/36] START batch_size=20, epochs=50, learning_rate=0.01..............\n",
      "[CV 2/5; 17/36] END batch_size=20, epochs=50, learning_rate=0.01;, score=0.986 total time=   2.9s\n",
      "[CV 3/5; 17/36] START batch_size=20, epochs=50, learning_rate=0.01..............\n",
      "[CV 3/5; 17/36] END batch_size=20, epochs=50, learning_rate=0.01;, score=1.000 total time=   2.5s\n",
      "[CV 4/5; 17/36] START batch_size=20, epochs=50, learning_rate=0.01..............\n",
      "[CV 4/5; 17/36] END batch_size=20, epochs=50, learning_rate=0.01;, score=0.986 total time=   2.4s\n",
      "[CV 5/5; 17/36] START batch_size=20, epochs=50, learning_rate=0.01..............\n",
      "[CV 5/5; 17/36] END batch_size=20, epochs=50, learning_rate=0.01;, score=0.819 total time=   2.5s\n",
      "[CV 1/5; 18/36] START batch_size=20, epochs=50, learning_rate=0.1...............\n",
      "[CV 1/5; 18/36] END batch_size=20, epochs=50, learning_rate=0.1;, score=0.712 total time=   2.8s\n",
      "[CV 2/5; 18/36] START batch_size=20, epochs=50, learning_rate=0.1...............\n",
      "[CV 2/5; 18/36] END batch_size=20, epochs=50, learning_rate=0.1;, score=0.736 total time=   2.5s\n",
      "[CV 3/5; 18/36] START batch_size=20, epochs=50, learning_rate=0.1...............\n",
      "[CV 3/5; 18/36] END batch_size=20, epochs=50, learning_rate=0.1;, score=0.819 total time=   2.4s\n",
      "[CV 4/5; 18/36] START batch_size=20, epochs=50, learning_rate=0.1...............\n",
      "[CV 4/5; 18/36] END batch_size=20, epochs=50, learning_rate=0.1;, score=0.708 total time=   2.5s\n",
      "[CV 5/5; 18/36] START batch_size=20, epochs=50, learning_rate=0.1...............\n",
      "[CV 5/5; 18/36] END batch_size=20, epochs=50, learning_rate=0.1;, score=0.736 total time=   2.5s\n",
      "[CV 1/5; 19/36] START batch_size=20, epochs=100, learning_rate=0.001............\n",
      "[CV 1/5; 19/36] END batch_size=20, epochs=100, learning_rate=0.001;, score=1.000 total time=   3.8s\n",
      "[CV 2/5; 19/36] START batch_size=20, epochs=100, learning_rate=0.001............\n",
      "[CV 2/5; 19/36] END batch_size=20, epochs=100, learning_rate=0.001;, score=0.986 total time=   3.8s\n",
      "[CV 3/5; 19/36] START batch_size=20, epochs=100, learning_rate=0.001............\n"
     ]
    },
    {
     "name": "stdout",
     "output_type": "stream",
     "text": [
      "[CV 3/5; 19/36] END batch_size=20, epochs=100, learning_rate=0.001;, score=1.000 total time=   4.3s\n",
      "[CV 4/5; 19/36] START batch_size=20, epochs=100, learning_rate=0.001............\n",
      "[CV 4/5; 19/36] END batch_size=20, epochs=100, learning_rate=0.001;, score=0.986 total time=   3.8s\n",
      "[CV 5/5; 19/36] START batch_size=20, epochs=100, learning_rate=0.001............\n",
      "[CV 5/5; 19/36] END batch_size=20, epochs=100, learning_rate=0.001;, score=0.958 total time=   3.9s\n",
      "[CV 1/5; 20/36] START batch_size=20, epochs=100, learning_rate=0.01.............\n",
      "[CV 1/5; 20/36] END batch_size=20, epochs=100, learning_rate=0.01;, score=1.000 total time=   3.8s\n",
      "[CV 2/5; 20/36] START batch_size=20, epochs=100, learning_rate=0.01.............\n",
      "[CV 2/5; 20/36] END batch_size=20, epochs=100, learning_rate=0.01;, score=0.958 total time=   3.9s\n",
      "[CV 3/5; 20/36] START batch_size=20, epochs=100, learning_rate=0.01.............\n",
      "[CV 3/5; 20/36] END batch_size=20, epochs=100, learning_rate=0.01;, score=0.986 total time=   4.1s\n",
      "[CV 4/5; 20/36] START batch_size=20, epochs=100, learning_rate=0.01.............\n",
      "[CV 4/5; 20/36] END batch_size=20, epochs=100, learning_rate=0.01;, score=0.944 total time=   3.9s\n",
      "[CV 5/5; 20/36] START batch_size=20, epochs=100, learning_rate=0.01.............\n",
      "[CV 5/5; 20/36] END batch_size=20, epochs=100, learning_rate=0.01;, score=0.958 total time=   3.9s\n",
      "[CV 1/5; 21/36] START batch_size=20, epochs=100, learning_rate=0.1..............\n",
      "[CV 1/5; 21/36] END batch_size=20, epochs=100, learning_rate=0.1;, score=0.712 total time=   3.9s\n",
      "[CV 2/5; 21/36] START batch_size=20, epochs=100, learning_rate=0.1..............\n",
      "[CV 2/5; 21/36] END batch_size=20, epochs=100, learning_rate=0.1;, score=0.736 total time=   4.0s\n",
      "[CV 3/5; 21/36] START batch_size=20, epochs=100, learning_rate=0.1..............\n",
      "[CV 3/5; 21/36] END batch_size=20, epochs=100, learning_rate=0.1;, score=0.819 total time=   4.7s\n",
      "[CV 4/5; 21/36] START batch_size=20, epochs=100, learning_rate=0.1..............\n",
      "[CV 4/5; 21/36] END batch_size=20, epochs=100, learning_rate=0.1;, score=0.708 total time=   4.3s\n",
      "[CV 5/5; 21/36] START batch_size=20, epochs=100, learning_rate=0.1..............\n",
      "[CV 5/5; 21/36] END batch_size=20, epochs=100, learning_rate=0.1;, score=0.736 total time=   4.2s\n",
      "[CV 1/5; 22/36] START batch_size=20, epochs=150, learning_rate=0.001............\n",
      "[CV 1/5; 22/36] END batch_size=20, epochs=150, learning_rate=0.001;, score=0.986 total time=   5.4s\n",
      "[CV 2/5; 22/36] START batch_size=20, epochs=150, learning_rate=0.001............\n",
      "[CV 2/5; 22/36] END batch_size=20, epochs=150, learning_rate=0.001;, score=0.986 total time=   5.4s\n",
      "[CV 3/5; 22/36] START batch_size=20, epochs=150, learning_rate=0.001............\n",
      "[CV 3/5; 22/36] END batch_size=20, epochs=150, learning_rate=0.001;, score=0.986 total time=   5.5s\n",
      "[CV 4/5; 22/36] START batch_size=20, epochs=150, learning_rate=0.001............\n",
      "[CV 4/5; 22/36] END batch_size=20, epochs=150, learning_rate=0.001;, score=0.986 total time=   5.6s\n",
      "[CV 5/5; 22/36] START batch_size=20, epochs=150, learning_rate=0.001............\n",
      "[CV 5/5; 22/36] END batch_size=20, epochs=150, learning_rate=0.001;, score=0.958 total time=   5.3s\n",
      "[CV 1/5; 23/36] START batch_size=20, epochs=150, learning_rate=0.01.............\n",
      "[CV 1/5; 23/36] END batch_size=20, epochs=150, learning_rate=0.01;, score=1.000 total time=   5.4s\n",
      "[CV 2/5; 23/36] START batch_size=20, epochs=150, learning_rate=0.01.............\n",
      "[CV 2/5; 23/36] END batch_size=20, epochs=150, learning_rate=0.01;, score=0.986 total time=   5.4s\n",
      "[CV 3/5; 23/36] START batch_size=20, epochs=150, learning_rate=0.01.............\n",
      "[CV 3/5; 23/36] END batch_size=20, epochs=150, learning_rate=0.01;, score=0.972 total time=   5.4s\n",
      "[CV 4/5; 23/36] START batch_size=20, epochs=150, learning_rate=0.01.............\n",
      "[CV 4/5; 23/36] END batch_size=20, epochs=150, learning_rate=0.01;, score=0.944 total time=   5.9s\n",
      "[CV 5/5; 23/36] START batch_size=20, epochs=150, learning_rate=0.01.............\n",
      "[CV 5/5; 23/36] END batch_size=20, epochs=150, learning_rate=0.01;, score=0.958 total time=   5.4s\n",
      "[CV 1/5; 24/36] START batch_size=20, epochs=150, learning_rate=0.1..............\n",
      "[CV 1/5; 24/36] END batch_size=20, epochs=150, learning_rate=0.1;, score=0.712 total time=   5.4s\n",
      "[CV 2/5; 24/36] START batch_size=20, epochs=150, learning_rate=0.1..............\n",
      "[CV 2/5; 24/36] END batch_size=20, epochs=150, learning_rate=0.1;, score=0.736 total time=   5.4s\n",
      "[CV 3/5; 24/36] START batch_size=20, epochs=150, learning_rate=0.1..............\n",
      "[CV 3/5; 24/36] END batch_size=20, epochs=150, learning_rate=0.1;, score=0.819 total time=   5.5s\n",
      "[CV 4/5; 24/36] START batch_size=20, epochs=150, learning_rate=0.1..............\n",
      "[CV 4/5; 24/36] END batch_size=20, epochs=150, learning_rate=0.1;, score=0.792 total time=   5.4s\n",
      "[CV 5/5; 24/36] START batch_size=20, epochs=150, learning_rate=0.1..............\n",
      "[CV 5/5; 24/36] END batch_size=20, epochs=150, learning_rate=0.1;, score=0.736 total time=   5.5s\n",
      "[CV 1/5; 25/36] START batch_size=40, epochs=10, learning_rate=0.001.............\n",
      "[CV 1/5; 25/36] END batch_size=40, epochs=10, learning_rate=0.001;, score=0.945 total time=   1.3s\n",
      "[CV 2/5; 25/36] START batch_size=40, epochs=10, learning_rate=0.001.............\n",
      "[CV 2/5; 25/36] END batch_size=40, epochs=10, learning_rate=0.001;, score=0.722 total time=   1.2s\n",
      "[CV 3/5; 25/36] START batch_size=40, epochs=10, learning_rate=0.001.............\n",
      "WARNING:tensorflow:5 out of the last 13 calls to <function Model.make_test_function.<locals>.test_function at 0x0000015BD836CF70> triggered tf.function retracing. Tracing is expensive and the excessive number of tracings could be due to (1) creating @tf.function repeatedly in a loop, (2) passing tensors with different shapes, (3) passing Python objects instead of tensors. For (1), please define your @tf.function outside of the loop. For (2), @tf.function has reduce_retracing=True option that can avoid unnecessary retracing. For (3), please refer to https://www.tensorflow.org/guide/function#controlling_retracing and https://www.tensorflow.org/api_docs/python/tf/function for  more details.\n",
      "[CV 3/5; 25/36] END batch_size=40, epochs=10, learning_rate=0.001;, score=0.889 total time=   1.2s\n",
      "[CV 4/5; 25/36] START batch_size=40, epochs=10, learning_rate=0.001.............\n",
      "WARNING:tensorflow:5 out of the last 11 calls to <function Model.make_test_function.<locals>.test_function at 0x0000015BD836C700> triggered tf.function retracing. Tracing is expensive and the excessive number of tracings could be due to (1) creating @tf.function repeatedly in a loop, (2) passing tensors with different shapes, (3) passing Python objects instead of tensors. For (1), please define your @tf.function outside of the loop. For (2), @tf.function has reduce_retracing=True option that can avoid unnecessary retracing. For (3), please refer to https://www.tensorflow.org/guide/function#controlling_retracing and https://www.tensorflow.org/api_docs/python/tf/function for  more details.\n",
      "[CV 4/5; 25/36] END batch_size=40, epochs=10, learning_rate=0.001;, score=0.917 total time=   1.7s\n",
      "[CV 5/5; 25/36] START batch_size=40, epochs=10, learning_rate=0.001.............\n",
      "[CV 5/5; 25/36] END batch_size=40, epochs=10, learning_rate=0.001;, score=0.806 total time=   1.4s\n",
      "[CV 1/5; 26/36] START batch_size=40, epochs=10, learning_rate=0.01..............\n",
      "[CV 1/5; 26/36] END batch_size=40, epochs=10, learning_rate=0.01;, score=0.973 total time=   1.3s\n",
      "[CV 2/5; 26/36] START batch_size=40, epochs=10, learning_rate=0.01..............\n",
      "[CV 2/5; 26/36] END batch_size=40, epochs=10, learning_rate=0.01;, score=0.944 total time=   1.3s\n",
      "[CV 3/5; 26/36] START batch_size=40, epochs=10, learning_rate=0.01..............\n",
      "[CV 3/5; 26/36] END batch_size=40, epochs=10, learning_rate=0.01;, score=0.917 total time=   1.3s\n",
      "[CV 4/5; 26/36] START batch_size=40, epochs=10, learning_rate=0.01..............\n",
      "[CV 4/5; 26/36] END batch_size=40, epochs=10, learning_rate=0.01;, score=0.750 total time=   1.3s\n",
      "[CV 5/5; 26/36] START batch_size=40, epochs=10, learning_rate=0.01..............\n",
      "[CV 5/5; 26/36] END batch_size=40, epochs=10, learning_rate=0.01;, score=0.819 total time=   1.3s\n",
      "[CV 1/5; 27/36] START batch_size=40, epochs=10, learning_rate=0.1...............\n"
     ]
    },
    {
     "name": "stdout",
     "output_type": "stream",
     "text": [
      "[CV 1/5; 27/36] END batch_size=40, epochs=10, learning_rate=0.1;, score=0.712 total time=   1.3s\n",
      "[CV 2/5; 27/36] START batch_size=40, epochs=10, learning_rate=0.1...............\n",
      "[CV 2/5; 27/36] END batch_size=40, epochs=10, learning_rate=0.1;, score=0.736 total time=   1.3s\n",
      "[CV 3/5; 27/36] START batch_size=40, epochs=10, learning_rate=0.1...............\n",
      "[CV 3/5; 27/36] END batch_size=40, epochs=10, learning_rate=0.1;, score=0.889 total time=   1.3s\n",
      "[CV 4/5; 27/36] START batch_size=40, epochs=10, learning_rate=0.1...............\n",
      "[CV 4/5; 27/36] END batch_size=40, epochs=10, learning_rate=0.1;, score=0.736 total time=   1.7s\n",
      "[CV 5/5; 27/36] START batch_size=40, epochs=10, learning_rate=0.1...............\n",
      "[CV 5/5; 27/36] END batch_size=40, epochs=10, learning_rate=0.1;, score=0.736 total time=   1.3s\n",
      "[CV 1/5; 28/36] START batch_size=40, epochs=50, learning_rate=0.001.............\n",
      "[CV 1/5; 28/36] END batch_size=40, epochs=50, learning_rate=0.001;, score=0.986 total time=   2.0s\n",
      "[CV 2/5; 28/36] START batch_size=40, epochs=50, learning_rate=0.001.............\n",
      "[CV 2/5; 28/36] END batch_size=40, epochs=50, learning_rate=0.001;, score=0.986 total time=   2.0s\n",
      "[CV 3/5; 28/36] START batch_size=40, epochs=50, learning_rate=0.001.............\n",
      "[CV 3/5; 28/36] END batch_size=40, epochs=50, learning_rate=0.001;, score=0.972 total time=   2.0s\n",
      "[CV 4/5; 28/36] START batch_size=40, epochs=50, learning_rate=0.001.............\n",
      "[CV 4/5; 28/36] END batch_size=40, epochs=50, learning_rate=0.001;, score=0.931 total time=   1.9s\n",
      "[CV 5/5; 28/36] START batch_size=40, epochs=50, learning_rate=0.001.............\n",
      "[CV 5/5; 28/36] END batch_size=40, epochs=50, learning_rate=0.001;, score=0.806 total time=   1.9s\n",
      "[CV 1/5; 29/36] START batch_size=40, epochs=50, learning_rate=0.01..............\n",
      "[CV 1/5; 29/36] END batch_size=40, epochs=50, learning_rate=0.01;, score=1.000 total time=   2.0s\n",
      "[CV 2/5; 29/36] START batch_size=40, epochs=50, learning_rate=0.01..............\n",
      "[CV 2/5; 29/36] END batch_size=40, epochs=50, learning_rate=0.01;, score=0.986 total time=   2.0s\n",
      "[CV 3/5; 29/36] START batch_size=40, epochs=50, learning_rate=0.01..............\n",
      "[CV 3/5; 29/36] END batch_size=40, epochs=50, learning_rate=0.01;, score=1.000 total time=   2.0s\n",
      "[CV 4/5; 29/36] START batch_size=40, epochs=50, learning_rate=0.01..............\n",
      "[CV 4/5; 29/36] END batch_size=40, epochs=50, learning_rate=0.01;, score=0.986 total time=   2.0s\n",
      "[CV 5/5; 29/36] START batch_size=40, epochs=50, learning_rate=0.01..............\n",
      "[CV 5/5; 29/36] END batch_size=40, epochs=50, learning_rate=0.01;, score=0.958 total time=   2.0s\n",
      "[CV 1/5; 30/36] START batch_size=40, epochs=50, learning_rate=0.1...............\n",
      "[CV 1/5; 30/36] END batch_size=40, epochs=50, learning_rate=0.1;, score=0.712 total time=   2.4s\n",
      "[CV 2/5; 30/36] START batch_size=40, epochs=50, learning_rate=0.1...............\n",
      "[CV 2/5; 30/36] END batch_size=40, epochs=50, learning_rate=0.1;, score=0.736 total time=   2.0s\n",
      "[CV 3/5; 30/36] START batch_size=40, epochs=50, learning_rate=0.1...............\n",
      "[CV 3/5; 30/36] END batch_size=40, epochs=50, learning_rate=0.1;, score=0.819 total time=   2.0s\n",
      "[CV 4/5; 30/36] START batch_size=40, epochs=50, learning_rate=0.1...............\n",
      "[CV 4/5; 30/36] END batch_size=40, epochs=50, learning_rate=0.1;, score=0.736 total time=   2.0s\n",
      "[CV 5/5; 30/36] START batch_size=40, epochs=50, learning_rate=0.1...............\n",
      "[CV 5/5; 30/36] END batch_size=40, epochs=50, learning_rate=0.1;, score=0.736 total time=   2.0s\n",
      "[CV 1/5; 31/36] START batch_size=40, epochs=100, learning_rate=0.001............\n",
      "[CV 1/5; 31/36] END batch_size=40, epochs=100, learning_rate=0.001;, score=1.000 total time=   2.8s\n",
      "[CV 2/5; 31/36] START batch_size=40, epochs=100, learning_rate=0.001............\n",
      "[CV 2/5; 31/36] END batch_size=40, epochs=100, learning_rate=0.001;, score=0.972 total time=   2.7s\n",
      "[CV 3/5; 31/36] START batch_size=40, epochs=100, learning_rate=0.001............\n",
      "[CV 3/5; 31/36] END batch_size=40, epochs=100, learning_rate=0.001;, score=0.986 total time=   2.6s\n",
      "[CV 4/5; 31/36] START batch_size=40, epochs=100, learning_rate=0.001............\n",
      "[CV 4/5; 31/36] END batch_size=40, epochs=100, learning_rate=0.001;, score=0.986 total time=   2.8s\n",
      "[CV 5/5; 31/36] START batch_size=40, epochs=100, learning_rate=0.001............\n",
      "[CV 5/5; 31/36] END batch_size=40, epochs=100, learning_rate=0.001;, score=0.931 total time=   2.8s\n",
      "[CV 1/5; 32/36] START batch_size=40, epochs=100, learning_rate=0.01.............\n",
      "[CV 1/5; 32/36] END batch_size=40, epochs=100, learning_rate=0.01;, score=0.986 total time=   2.8s\n",
      "[CV 2/5; 32/36] START batch_size=40, epochs=100, learning_rate=0.01.............\n",
      "[CV 2/5; 32/36] END batch_size=40, epochs=100, learning_rate=0.01;, score=1.000 total time=   3.3s\n",
      "[CV 3/5; 32/36] START batch_size=40, epochs=100, learning_rate=0.01.............\n",
      "[CV 3/5; 32/36] END batch_size=40, epochs=100, learning_rate=0.01;, score=1.000 total time=   2.9s\n",
      "[CV 4/5; 32/36] START batch_size=40, epochs=100, learning_rate=0.01.............\n",
      "[CV 4/5; 32/36] END batch_size=40, epochs=100, learning_rate=0.01;, score=0.986 total time=   2.8s\n",
      "[CV 5/5; 32/36] START batch_size=40, epochs=100, learning_rate=0.01.............\n",
      "[CV 5/5; 32/36] END batch_size=40, epochs=100, learning_rate=0.01;, score=0.958 total time=   2.8s\n",
      "[CV 1/5; 33/36] START batch_size=40, epochs=100, learning_rate=0.1..............\n",
      "[CV 1/5; 33/36] END batch_size=40, epochs=100, learning_rate=0.1;, score=0.712 total time=   2.9s\n",
      "[CV 2/5; 33/36] START batch_size=40, epochs=100, learning_rate=0.1..............\n",
      "[CV 2/5; 33/36] END batch_size=40, epochs=100, learning_rate=0.1;, score=0.750 total time=   2.8s\n",
      "[CV 3/5; 33/36] START batch_size=40, epochs=100, learning_rate=0.1..............\n",
      "[CV 3/5; 33/36] END batch_size=40, epochs=100, learning_rate=0.1;, score=0.958 total time=   2.7s\n",
      "[CV 4/5; 33/36] START batch_size=40, epochs=100, learning_rate=0.1..............\n",
      "[CV 4/5; 33/36] END batch_size=40, epochs=100, learning_rate=0.1;, score=0.708 total time=   2.9s\n",
      "[CV 5/5; 33/36] START batch_size=40, epochs=100, learning_rate=0.1..............\n",
      "[CV 5/5; 33/36] END batch_size=40, epochs=100, learning_rate=0.1;, score=0.736 total time=   2.8s\n",
      "[CV 1/5; 34/36] START batch_size=40, epochs=150, learning_rate=0.001............\n",
      "[CV 1/5; 34/36] END batch_size=40, epochs=150, learning_rate=0.001;, score=1.000 total time=   3.6s\n",
      "[CV 2/5; 34/36] START batch_size=40, epochs=150, learning_rate=0.001............\n",
      "[CV 2/5; 34/36] END batch_size=40, epochs=150, learning_rate=0.001;, score=0.958 total time=   3.5s\n",
      "[CV 3/5; 34/36] START batch_size=40, epochs=150, learning_rate=0.001............\n",
      "[CV 3/5; 34/36] END batch_size=40, epochs=150, learning_rate=0.001;, score=0.972 total time=   4.0s\n",
      "[CV 4/5; 34/36] START batch_size=40, epochs=150, learning_rate=0.001............\n",
      "[CV 4/5; 34/36] END batch_size=40, epochs=150, learning_rate=0.001;, score=0.986 total time=   3.7s\n",
      "[CV 5/5; 34/36] START batch_size=40, epochs=150, learning_rate=0.001............\n",
      "[CV 5/5; 34/36] END batch_size=40, epochs=150, learning_rate=0.001;, score=0.944 total time=   3.6s\n",
      "[CV 1/5; 35/36] START batch_size=40, epochs=150, learning_rate=0.01.............\n",
      "[CV 1/5; 35/36] END batch_size=40, epochs=150, learning_rate=0.01;, score=0.986 total time=   3.7s\n",
      "[CV 2/5; 35/36] START batch_size=40, epochs=150, learning_rate=0.01.............\n",
      "[CV 2/5; 35/36] END batch_size=40, epochs=150, learning_rate=0.01;, score=0.958 total time=   3.7s\n",
      "[CV 3/5; 35/36] START batch_size=40, epochs=150, learning_rate=0.01.............\n",
      "[CV 3/5; 35/36] END batch_size=40, epochs=150, learning_rate=0.01;, score=1.000 total time=   3.7s\n",
      "[CV 4/5; 35/36] START batch_size=40, epochs=150, learning_rate=0.01.............\n",
      "[CV 4/5; 35/36] END batch_size=40, epochs=150, learning_rate=0.01;, score=0.986 total time=   3.6s\n",
      "[CV 5/5; 35/36] START batch_size=40, epochs=150, learning_rate=0.01.............\n",
      "[CV 5/5; 35/36] END batch_size=40, epochs=150, learning_rate=0.01;, score=0.958 total time=   3.7s\n",
      "[CV 1/5; 36/36] START batch_size=40, epochs=150, learning_rate=0.1..............\n",
      "[CV 1/5; 36/36] END batch_size=40, epochs=150, learning_rate=0.1;, score=0.712 total time=   3.6s\n",
      "[CV 2/5; 36/36] START batch_size=40, epochs=150, learning_rate=0.1..............\n"
     ]
    },
    {
     "name": "stdout",
     "output_type": "stream",
     "text": [
      "[CV 2/5; 36/36] END batch_size=40, epochs=150, learning_rate=0.1;, score=0.736 total time=   3.7s\n",
      "[CV 3/5; 36/36] START batch_size=40, epochs=150, learning_rate=0.1..............\n",
      "[CV 3/5; 36/36] END batch_size=40, epochs=150, learning_rate=0.1;, score=0.819 total time=   3.6s\n",
      "[CV 4/5; 36/36] START batch_size=40, epochs=150, learning_rate=0.1..............\n",
      "[CV 4/5; 36/36] END batch_size=40, epochs=150, learning_rate=0.1;, score=0.708 total time=   4.1s\n",
      "[CV 5/5; 36/36] START batch_size=40, epochs=150, learning_rate=0.1..............\n",
      "[CV 5/5; 36/36] END batch_size=40, epochs=150, learning_rate=0.1;, score=0.736 total time=   3.9s\n"
     ]
    }
   ],
   "source": [
    "# tuning parameters like batch_size,epoch and learning rate\n",
    "def create_model(learning_rate):\n",
    "    model = Sequential(name='Hypterparameter-Tuning-Dummy')\n",
    "    model.add(Dense(100, input_dim=30, kernel_initializer='uniform', activation='relu'))\n",
    "    model.add(Dense(50,kernel_initializer='uniform', activation='relu'))\n",
    "    model.add(Dense(1, kernel_initializer='uniform', activation='sigmoid'))\n",
    "    \n",
    "    adam=Adam(learning_rate= learning_rate)\n",
    "    model.compile(loss='binary_crossentropy', optimizer=adam, metrics=['accuracy'])\n",
    "    return model\n",
    "\n",
    "\n",
    "#creating the model by defining some parameters\n",
    "\n",
    "model = KerasClassifier(build_fn = create_model,verbose = 0)\n",
    "# Define the grid search parameters\n",
    "batch_size = [10,20,40]\n",
    "epochs = [10,50,100,150]\n",
    "learning_rate = [0.001,0.01,0.1]\n",
    "\n",
    "# Make a dictionary of the grid search parameters\n",
    "param_grid = dict(batch_size = batch_size,epochs = epochs,learning_rate = learning_rate)\n",
    "# Build and fit the GridSearchCV\n",
    "grid = GridSearchCV(estimator = model,param_grid = param_grid,cv = KFold(),verbose = 10)\n",
    "grid_result = grid.fit(X_train,y_train)"
   ]
  },
  {
   "cell_type": "code",
   "execution_count": 13,
   "id": "1fe0f596",
   "metadata": {
    "scrolled": true
   },
   "outputs": [
    {
     "name": "stdout",
     "output_type": "stream",
     "text": [
      "Best : 0.9861491560935974, using {'batch_size': 40, 'epochs': 100, 'learning_rate': 0.01}\n"
     ]
    }
   ],
   "source": [
    "print('Best : {}, using {}'.format(grid_result.best_score_,grid_result.best_params_))"
   ]
  },
  {
   "cell_type": "code",
   "execution_count": 19,
   "id": "5aae170a",
   "metadata": {},
   "outputs": [
    {
     "name": "stdout",
     "output_type": "stream",
     "text": [
      "Fitting 5 folds for each of 15 candidates, totalling 75 fits\n",
      "[CV 1/5; 1/15] START activation_function=softmax, init=uniform..................\n",
      "[CV 1/5; 1/15] END activation_function=softmax, init=uniform;, score=0.712 total time=   6.7s\n",
      "[CV 2/5; 1/15] START activation_function=softmax, init=uniform..................\n",
      "[CV 2/5; 1/15] END activation_function=softmax, init=uniform;, score=0.736 total time=   7.1s\n",
      "[CV 3/5; 1/15] START activation_function=softmax, init=uniform..................\n",
      "[CV 3/5; 1/15] END activation_function=softmax, init=uniform;, score=0.819 total time=   6.5s\n",
      "[CV 4/5; 1/15] START activation_function=softmax, init=uniform..................\n",
      "[CV 4/5; 1/15] END activation_function=softmax, init=uniform;, score=0.708 total time=   6.9s\n",
      "[CV 5/5; 1/15] START activation_function=softmax, init=uniform..................\n",
      "[CV 5/5; 1/15] END activation_function=softmax, init=uniform;, score=0.736 total time=   7.1s\n",
      "[CV 1/5; 2/15] START activation_function=softmax, init=normal...................\n",
      "[CV 1/5; 2/15] END activation_function=softmax, init=normal;, score=0.712 total time=   7.9s\n",
      "[CV 2/5; 2/15] START activation_function=softmax, init=normal...................\n",
      "[CV 2/5; 2/15] END activation_function=softmax, init=normal;, score=0.736 total time=   6.9s\n",
      "[CV 3/5; 2/15] START activation_function=softmax, init=normal...................\n",
      "[CV 3/5; 2/15] END activation_function=softmax, init=normal;, score=0.819 total time=   6.4s\n",
      "[CV 4/5; 2/15] START activation_function=softmax, init=normal...................\n",
      "[CV 4/5; 2/15] END activation_function=softmax, init=normal;, score=0.708 total time=   6.4s\n",
      "[CV 5/5; 2/15] START activation_function=softmax, init=normal...................\n",
      "[CV 5/5; 2/15] END activation_function=softmax, init=normal;, score=0.736 total time=   6.6s\n",
      "[CV 1/5; 3/15] START activation_function=softmax, init=zero.....................\n",
      "[CV 1/5; 3/15] END activation_function=softmax, init=zero;, score=0.712 total time=   6.6s\n",
      "[CV 2/5; 3/15] START activation_function=softmax, init=zero.....................\n",
      "[CV 2/5; 3/15] END activation_function=softmax, init=zero;, score=0.736 total time=   6.8s\n",
      "[CV 3/5; 3/15] START activation_function=softmax, init=zero.....................\n",
      "[CV 3/5; 3/15] END activation_function=softmax, init=zero;, score=0.819 total time=   6.4s\n",
      "[CV 4/5; 3/15] START activation_function=softmax, init=zero.....................\n",
      "[CV 4/5; 3/15] END activation_function=softmax, init=zero;, score=0.708 total time=   7.0s\n",
      "[CV 5/5; 3/15] START activation_function=softmax, init=zero.....................\n",
      "[CV 5/5; 3/15] END activation_function=softmax, init=zero;, score=0.736 total time=   6.6s\n",
      "[CV 1/5; 4/15] START activation_function=relu, init=uniform.....................\n",
      "[CV 1/5; 4/15] END activation_function=relu, init=uniform;, score=0.288 total time=   6.7s\n",
      "[CV 2/5; 4/15] START activation_function=relu, init=uniform.....................\n",
      "[CV 2/5; 4/15] END activation_function=relu, init=uniform;, score=0.264 total time=   6.3s\n",
      "[CV 3/5; 4/15] START activation_function=relu, init=uniform.....................\n",
      "[CV 3/5; 4/15] END activation_function=relu, init=uniform;, score=0.833 total time=   6.4s\n",
      "[CV 4/5; 4/15] START activation_function=relu, init=uniform.....................\n",
      "[CV 4/5; 4/15] END activation_function=relu, init=uniform;, score=0.292 total time=   6.4s\n",
      "[CV 5/5; 4/15] START activation_function=relu, init=uniform.....................\n",
      "[CV 5/5; 4/15] END activation_function=relu, init=uniform;, score=0.778 total time=   6.5s\n",
      "[CV 1/5; 5/15] START activation_function=relu, init=normal......................\n",
      "[CV 1/5; 5/15] END activation_function=relu, init=normal;, score=0.288 total time=   6.5s\n",
      "[CV 2/5; 5/15] START activation_function=relu, init=normal......................\n",
      "[CV 2/5; 5/15] END activation_function=relu, init=normal;, score=0.736 total time=   6.3s\n",
      "[CV 3/5; 5/15] START activation_function=relu, init=normal......................\n",
      "[CV 3/5; 5/15] END activation_function=relu, init=normal;, score=0.819 total time=   6.3s\n",
      "[CV 4/5; 5/15] START activation_function=relu, init=normal......................\n",
      "[CV 4/5; 5/15] END activation_function=relu, init=normal;, score=0.708 total time=   6.2s\n",
      "[CV 5/5; 5/15] START activation_function=relu, init=normal......................\n",
      "[CV 5/5; 5/15] END activation_function=relu, init=normal;, score=0.736 total time=   6.9s\n",
      "[CV 1/5; 6/15] START activation_function=relu, init=zero........................\n",
      "[CV 1/5; 6/15] END activation_function=relu, init=zero;, score=0.288 total time=   6.5s\n",
      "[CV 2/5; 6/15] START activation_function=relu, init=zero........................\n",
      "[CV 2/5; 6/15] END activation_function=relu, init=zero;, score=0.264 total time=   6.6s\n",
      "[CV 3/5; 6/15] START activation_function=relu, init=zero........................\n",
      "[CV 3/5; 6/15] END activation_function=relu, init=zero;, score=0.181 total time=   6.6s\n",
      "[CV 4/5; 6/15] START activation_function=relu, init=zero........................\n",
      "[CV 4/5; 6/15] END activation_function=relu, init=zero;, score=0.292 total time=   6.4s\n",
      "[CV 5/5; 6/15] START activation_function=relu, init=zero........................\n",
      "[CV 5/5; 6/15] END activation_function=relu, init=zero;, score=0.264 total time=   6.4s\n",
      "[CV 1/5; 7/15] START activation_function=tanh, init=uniform.....................\n",
      "[CV 1/5; 7/15] END activation_function=tanh, init=uniform;, score=0.849 total time=   6.5s\n",
      "[CV 2/5; 7/15] START activation_function=tanh, init=uniform.....................\n",
      "[CV 2/5; 7/15] END activation_function=tanh, init=uniform;, score=1.000 total time=   6.4s\n",
      "[CV 3/5; 7/15] START activation_function=tanh, init=uniform.....................\n",
      "[CV 3/5; 7/15] END activation_function=tanh, init=uniform;, score=0.944 total time=   6.4s\n",
      "[CV 4/5; 7/15] START activation_function=tanh, init=uniform.....................\n",
      "[CV 4/5; 7/15] END activation_function=tanh, init=uniform;, score=0.972 total time=   6.4s\n",
      "[CV 5/5; 7/15] START activation_function=tanh, init=uniform.....................\n",
      "[CV 5/5; 7/15] END activation_function=tanh, init=uniform;, score=0.847 total time=   6.4s\n",
      "[CV 1/5; 8/15] START activation_function=tanh, init=normal......................\n",
      "[CV 1/5; 8/15] END activation_function=tanh, init=normal;, score=0.986 total time=   6.8s\n",
      "[CV 2/5; 8/15] START activation_function=tanh, init=normal......................\n",
      "[CV 2/5; 8/15] END activation_function=tanh, init=normal;, score=0.986 total time=   6.5s\n",
      "[CV 3/5; 8/15] START activation_function=tanh, init=normal......................\n",
      "[CV 3/5; 8/15] END activation_function=tanh, init=normal;, score=1.000 total time=   6.5s\n",
      "[CV 4/5; 8/15] START activation_function=tanh, init=normal......................\n",
      "[CV 4/5; 8/15] END activation_function=tanh, init=normal;, score=0.292 total time=   6.5s\n",
      "[CV 5/5; 8/15] START activation_function=tanh, init=normal......................\n",
      "[CV 5/5; 8/15] END activation_function=tanh, init=normal;, score=0.917 total time=   6.4s\n",
      "[CV 1/5; 9/15] START activation_function=tanh, init=zero........................\n",
      "[CV 1/5; 9/15] END activation_function=tanh, init=zero;, score=0.288 total time=   6.5s\n",
      "[CV 2/5; 9/15] START activation_function=tanh, init=zero........................\n",
      "[CV 2/5; 9/15] END activation_function=tanh, init=zero;, score=0.264 total time=   6.6s\n",
      "[CV 3/5; 9/15] START activation_function=tanh, init=zero........................\n",
      "[CV 3/5; 9/15] END activation_function=tanh, init=zero;, score=0.181 total time=   6.4s\n",
      "[CV 4/5; 9/15] START activation_function=tanh, init=zero........................\n",
      "[CV 4/5; 9/15] END activation_function=tanh, init=zero;, score=0.292 total time=   6.4s\n",
      "[CV 5/5; 9/15] START activation_function=tanh, init=zero........................\n",
      "[CV 5/5; 9/15] END activation_function=tanh, init=zero;, score=0.264 total time=   6.3s\n",
      "[CV 1/5; 10/15] START activation_function=linear, init=uniform..................\n",
      "[CV 1/5; 10/15] END activation_function=linear, init=uniform;, score=0.712 total time=   6.4s\n",
      "[CV 2/5; 10/15] START activation_function=linear, init=uniform..................\n",
      "[CV 2/5; 10/15] END activation_function=linear, init=uniform;, score=0.736 total time=   6.2s\n",
      "[CV 3/5; 10/15] START activation_function=linear, init=uniform..................\n"
     ]
    },
    {
     "name": "stdout",
     "output_type": "stream",
     "text": [
      "[CV 3/5; 10/15] END activation_function=linear, init=uniform;, score=0.819 total time=   6.8s\n",
      "[CV 4/5; 10/15] START activation_function=linear, init=uniform..................\n",
      "[CV 4/5; 10/15] END activation_function=linear, init=uniform;, score=0.708 total time=   6.5s\n",
      "[CV 5/5; 10/15] START activation_function=linear, init=uniform..................\n",
      "[CV 5/5; 10/15] END activation_function=linear, init=uniform;, score=0.264 total time=   6.4s\n",
      "[CV 1/5; 11/15] START activation_function=linear, init=normal...................\n",
      "[CV 1/5; 11/15] END activation_function=linear, init=normal;, score=0.712 total time=   6.3s\n",
      "[CV 2/5; 11/15] START activation_function=linear, init=normal...................\n",
      "[CV 2/5; 11/15] END activation_function=linear, init=normal;, score=0.736 total time=   6.3s\n",
      "[CV 3/5; 11/15] START activation_function=linear, init=normal...................\n",
      "[CV 3/5; 11/15] END activation_function=linear, init=normal;, score=0.181 total time=   6.3s\n",
      "[CV 4/5; 11/15] START activation_function=linear, init=normal...................\n",
      "[CV 4/5; 11/15] END activation_function=linear, init=normal;, score=0.625 total time=   6.2s\n",
      "[CV 5/5; 11/15] START activation_function=linear, init=normal...................\n",
      "[CV 5/5; 11/15] END activation_function=linear, init=normal;, score=0.736 total time=   6.4s\n",
      "[CV 1/5; 12/15] START activation_function=linear, init=zero.....................\n",
      "[CV 1/5; 12/15] END activation_function=linear, init=zero;, score=0.288 total time=   6.4s\n",
      "[CV 2/5; 12/15] START activation_function=linear, init=zero.....................\n",
      "[CV 2/5; 12/15] END activation_function=linear, init=zero;, score=0.264 total time=   6.4s\n",
      "[CV 3/5; 12/15] START activation_function=linear, init=zero.....................\n",
      "[CV 3/5; 12/15] END activation_function=linear, init=zero;, score=0.181 total time=   6.3s\n",
      "[CV 4/5; 12/15] START activation_function=linear, init=zero.....................\n",
      "[CV 4/5; 12/15] END activation_function=linear, init=zero;, score=0.292 total time=   6.9s\n",
      "[CV 5/5; 12/15] START activation_function=linear, init=zero.....................\n",
      "[CV 5/5; 12/15] END activation_function=linear, init=zero;, score=0.264 total time=   6.3s\n",
      "[CV 1/5; 13/15] START activation_function=sigmoid, init=uniform.................\n",
      "[CV 1/5; 13/15] END activation_function=sigmoid, init=uniform;, score=0.986 total time=   7.7s\n",
      "[CV 2/5; 13/15] START activation_function=sigmoid, init=uniform.................\n",
      "[CV 2/5; 13/15] END activation_function=sigmoid, init=uniform;, score=0.986 total time=   6.4s\n",
      "[CV 3/5; 13/15] START activation_function=sigmoid, init=uniform.................\n",
      "[CV 3/5; 13/15] END activation_function=sigmoid, init=uniform;, score=1.000 total time=   6.3s\n",
      "[CV 4/5; 13/15] START activation_function=sigmoid, init=uniform.................\n",
      "[CV 4/5; 13/15] END activation_function=sigmoid, init=uniform;, score=0.972 total time=   6.4s\n",
      "[CV 5/5; 13/15] START activation_function=sigmoid, init=uniform.................\n",
      "[CV 5/5; 13/15] END activation_function=sigmoid, init=uniform;, score=0.958 total time=   6.2s\n",
      "[CV 1/5; 14/15] START activation_function=sigmoid, init=normal..................\n",
      "[CV 1/5; 14/15] END activation_function=sigmoid, init=normal;, score=0.986 total time=   6.6s\n",
      "[CV 2/5; 14/15] START activation_function=sigmoid, init=normal..................\n",
      "[CV 2/5; 14/15] END activation_function=sigmoid, init=normal;, score=0.986 total time=   6.7s\n",
      "[CV 3/5; 14/15] START activation_function=sigmoid, init=normal..................\n",
      "[CV 3/5; 14/15] END activation_function=sigmoid, init=normal;, score=1.000 total time=   6.6s\n",
      "[CV 4/5; 14/15] START activation_function=sigmoid, init=normal..................\n",
      "[CV 4/5; 14/15] END activation_function=sigmoid, init=normal;, score=0.972 total time=   6.4s\n",
      "[CV 5/5; 14/15] START activation_function=sigmoid, init=normal..................\n",
      "[CV 5/5; 14/15] END activation_function=sigmoid, init=normal;, score=0.958 total time=   6.6s\n",
      "[CV 1/5; 15/15] START activation_function=sigmoid, init=zero....................\n",
      "[CV 1/5; 15/15] END activation_function=sigmoid, init=zero;, score=1.000 total time=   7.0s\n",
      "[CV 2/5; 15/15] START activation_function=sigmoid, init=zero....................\n",
      "[CV 2/5; 15/15] END activation_function=sigmoid, init=zero;, score=0.972 total time=   6.5s\n",
      "[CV 3/5; 15/15] START activation_function=sigmoid, init=zero....................\n",
      "[CV 3/5; 15/15] END activation_function=sigmoid, init=zero;, score=0.986 total time=   6.3s\n",
      "[CV 4/5; 15/15] START activation_function=sigmoid, init=zero....................\n",
      "[CV 4/5; 15/15] END activation_function=sigmoid, init=zero;, score=0.972 total time=   6.4s\n",
      "[CV 5/5; 15/15] START activation_function=sigmoid, init=zero....................\n",
      "[CV 5/5; 15/15] END activation_function=sigmoid, init=zero;, score=0.931 total time=   6.4s\n"
     ]
    }
   ],
   "source": [
    "#Tuning of Hyperparameters:- Activation Function and Kernel Initializer\n",
    "def create_model(activation_function,init):\n",
    "    model = Sequential(name='Hypterparameter-Tuning-Dummy')\n",
    "    model.add(Dense(100, input_dim=30, kernel_initializer=init, activation=activation_function))\n",
    "    model.add(Dense(50,kernel_initializer=init, activation=activation_function))\n",
    "    model.add(Dense(1, kernel_initializer=init, activation=activation_function))\n",
    "    \n",
    "    adam=Adam(learning_rate= 0.001)\n",
    "    model.compile(loss='binary_crossentropy', optimizer=adam, metrics=['accuracy'])\n",
    "    return model\n",
    "\n",
    "\n",
    "# Create the model\n",
    "\n",
    "model = KerasClassifier(build_fn = create_model,verbose = 0,batch_size= 10,epochs=100)\n",
    "\n",
    "# Define the grid search parameters\n",
    "activation_function = ['softmax','relu','tanh','linear','sigmoid']\n",
    "init = ['uniform','normal','zero']\n",
    "\n",
    "# Make a dictionary of the grid search parameters\n",
    "param_grids = dict(activation_function = activation_function,init = init)\n",
    "\n",
    "# Build and fit the GridSearchCV\n",
    "\n",
    "grid = GridSearchCV(estimator = model,param_grid = param_grids,cv = KFold(),verbose = 10)\n",
    "grid_result = grid.fit(X_train,y_train)\n",
    "\n"
   ]
  },
  {
   "cell_type": "code",
   "execution_count": 20,
   "id": "1abe3108",
   "metadata": {},
   "outputs": [
    {
     "name": "stdout",
     "output_type": "stream",
     "text": [
      "Best : 0.9805935978889465, using {'activation_function': 'sigmoid', 'init': 'uniform'}\n"
     ]
    }
   ],
   "source": [
    "# Summarize the results\n",
    "print('Best : {}, using {}'.format(grid_result.best_score_,grid_result.best_params_))\n"
   ]
  },
  {
   "cell_type": "code",
   "execution_count": 16,
   "id": "ac72410f",
   "metadata": {},
   "outputs": [
    {
     "name": "stdout",
     "output_type": "stream",
     "text": [
      "Fitting 5 folds for each of 20 candidates, totalling 100 fits\n",
      "[CV 1/5; 1/20] START neuron1=500, neuron2=150...................................\n"
     ]
    },
    {
     "name": "stderr",
     "output_type": "stream",
     "text": [
      "WARNING:absl:`lr` is deprecated, please use `learning_rate` instead, or use the legacy optimizer, e.g.,tf.keras.optimizers.legacy.Adam.\n",
      "WARNING:absl:`lr` is deprecated, please use `learning_rate` instead, or use the legacy optimizer, e.g.,tf.keras.optimizers.legacy.Adam.\n"
     ]
    },
    {
     "name": "stdout",
     "output_type": "stream",
     "text": [
      "[CV 1/5; 1/20] END ....neuron1=500, neuron2=150;, score=0.986 total time=  11.4s\n",
      "[CV 2/5; 1/20] START neuron1=500, neuron2=150...................................\n"
     ]
    },
    {
     "name": "stderr",
     "output_type": "stream",
     "text": [
      "WARNING:absl:`lr` is deprecated, please use `learning_rate` instead, or use the legacy optimizer, e.g.,tf.keras.optimizers.legacy.Adam.\n"
     ]
    },
    {
     "name": "stdout",
     "output_type": "stream",
     "text": [
      "[CV 2/5; 1/20] END ....neuron1=500, neuron2=150;, score=0.875 total time=  11.5s\n",
      "[CV 3/5; 1/20] START neuron1=500, neuron2=150...................................\n"
     ]
    },
    {
     "name": "stderr",
     "output_type": "stream",
     "text": [
      "WARNING:absl:`lr` is deprecated, please use `learning_rate` instead, or use the legacy optimizer, e.g.,tf.keras.optimizers.legacy.Adam.\n"
     ]
    },
    {
     "name": "stdout",
     "output_type": "stream",
     "text": [
      "[CV 3/5; 1/20] END ....neuron1=500, neuron2=150;, score=0.986 total time=  10.3s\n",
      "[CV 4/5; 1/20] START neuron1=500, neuron2=150...................................\n"
     ]
    },
    {
     "name": "stderr",
     "output_type": "stream",
     "text": [
      "WARNING:absl:`lr` is deprecated, please use `learning_rate` instead, or use the legacy optimizer, e.g.,tf.keras.optimizers.legacy.Adam.\n"
     ]
    },
    {
     "name": "stdout",
     "output_type": "stream",
     "text": [
      "[CV 4/5; 1/20] END ....neuron1=500, neuron2=150;, score=0.986 total time=   9.7s\n",
      "[CV 5/5; 1/20] START neuron1=500, neuron2=150...................................\n"
     ]
    },
    {
     "name": "stderr",
     "output_type": "stream",
     "text": [
      "WARNING:absl:`lr` is deprecated, please use `learning_rate` instead, or use the legacy optimizer, e.g.,tf.keras.optimizers.legacy.Adam.\n"
     ]
    },
    {
     "name": "stdout",
     "output_type": "stream",
     "text": [
      "[CV 5/5; 1/20] END ....neuron1=500, neuron2=150;, score=0.944 total time=   9.5s\n",
      "[CV 1/5; 2/20] START neuron1=500, neuron2=100...................................\n"
     ]
    },
    {
     "name": "stderr",
     "output_type": "stream",
     "text": [
      "WARNING:absl:`lr` is deprecated, please use `learning_rate` instead, or use the legacy optimizer, e.g.,tf.keras.optimizers.legacy.Adam.\n"
     ]
    },
    {
     "name": "stdout",
     "output_type": "stream",
     "text": [
      "[CV 1/5; 2/20] END ....neuron1=500, neuron2=100;, score=1.000 total time=   9.3s\n",
      "[CV 2/5; 2/20] START neuron1=500, neuron2=100...................................\n"
     ]
    },
    {
     "name": "stderr",
     "output_type": "stream",
     "text": [
      "WARNING:absl:`lr` is deprecated, please use `learning_rate` instead, or use the legacy optimizer, e.g.,tf.keras.optimizers.legacy.Adam.\n"
     ]
    },
    {
     "name": "stdout",
     "output_type": "stream",
     "text": [
      "[CV 2/5; 2/20] END ....neuron1=500, neuron2=100;, score=0.972 total time=   9.3s\n",
      "[CV 3/5; 2/20] START neuron1=500, neuron2=100...................................\n"
     ]
    },
    {
     "name": "stderr",
     "output_type": "stream",
     "text": [
      "WARNING:absl:`lr` is deprecated, please use `learning_rate` instead, or use the legacy optimizer, e.g.,tf.keras.optimizers.legacy.Adam.\n"
     ]
    },
    {
     "name": "stdout",
     "output_type": "stream",
     "text": [
      "[CV 3/5; 2/20] END ....neuron1=500, neuron2=100;, score=0.972 total time=   9.1s\n",
      "[CV 4/5; 2/20] START neuron1=500, neuron2=100...................................\n"
     ]
    },
    {
     "name": "stderr",
     "output_type": "stream",
     "text": [
      "WARNING:absl:`lr` is deprecated, please use `learning_rate` instead, or use the legacy optimizer, e.g.,tf.keras.optimizers.legacy.Adam.\n"
     ]
    },
    {
     "name": "stdout",
     "output_type": "stream",
     "text": [
      "[CV 4/5; 2/20] END ....neuron1=500, neuron2=100;, score=0.972 total time=   8.9s\n",
      "[CV 5/5; 2/20] START neuron1=500, neuron2=100...................................\n"
     ]
    },
    {
     "name": "stderr",
     "output_type": "stream",
     "text": [
      "WARNING:absl:`lr` is deprecated, please use `learning_rate` instead, or use the legacy optimizer, e.g.,tf.keras.optimizers.legacy.Adam.\n"
     ]
    },
    {
     "name": "stdout",
     "output_type": "stream",
     "text": [
      "[CV 5/5; 2/20] END ....neuron1=500, neuron2=100;, score=0.958 total time=   9.1s\n",
      "[CV 1/5; 3/20] START neuron1=500, neuron2=50....................................\n"
     ]
    },
    {
     "name": "stderr",
     "output_type": "stream",
     "text": [
      "WARNING:absl:`lr` is deprecated, please use `learning_rate` instead, or use the legacy optimizer, e.g.,tf.keras.optimizers.legacy.Adam.\n"
     ]
    },
    {
     "name": "stdout",
     "output_type": "stream",
     "text": [
      "[CV 1/5; 3/20] END .....neuron1=500, neuron2=50;, score=0.986 total time=   8.1s\n",
      "[CV 2/5; 3/20] START neuron1=500, neuron2=50....................................\n"
     ]
    },
    {
     "name": "stderr",
     "output_type": "stream",
     "text": [
      "WARNING:absl:`lr` is deprecated, please use `learning_rate` instead, or use the legacy optimizer, e.g.,tf.keras.optimizers.legacy.Adam.\n"
     ]
    },
    {
     "name": "stdout",
     "output_type": "stream",
     "text": [
      "[CV 2/5; 3/20] END .....neuron1=500, neuron2=50;, score=0.986 total time=   7.9s\n",
      "[CV 3/5; 3/20] START neuron1=500, neuron2=50....................................\n"
     ]
    },
    {
     "name": "stderr",
     "output_type": "stream",
     "text": [
      "WARNING:absl:`lr` is deprecated, please use `learning_rate` instead, or use the legacy optimizer, e.g.,tf.keras.optimizers.legacy.Adam.\n"
     ]
    },
    {
     "name": "stdout",
     "output_type": "stream",
     "text": [
      "[CV 3/5; 3/20] END .....neuron1=500, neuron2=50;, score=0.986 total time=   8.9s\n",
      "[CV 4/5; 3/20] START neuron1=500, neuron2=50....................................\n"
     ]
    },
    {
     "name": "stderr",
     "output_type": "stream",
     "text": [
      "WARNING:absl:`lr` is deprecated, please use `learning_rate` instead, or use the legacy optimizer, e.g.,tf.keras.optimizers.legacy.Adam.\n"
     ]
    },
    {
     "name": "stdout",
     "output_type": "stream",
     "text": [
      "[CV 4/5; 3/20] END .....neuron1=500, neuron2=50;, score=0.986 total time=   8.7s\n",
      "[CV 5/5; 3/20] START neuron1=500, neuron2=50....................................\n"
     ]
    },
    {
     "name": "stderr",
     "output_type": "stream",
     "text": [
      "WARNING:absl:`lr` is deprecated, please use `learning_rate` instead, or use the legacy optimizer, e.g.,tf.keras.optimizers.legacy.Adam.\n"
     ]
    },
    {
     "name": "stdout",
     "output_type": "stream",
     "text": [
      "[CV 5/5; 3/20] END .....neuron1=500, neuron2=50;, score=0.958 total time=   8.8s\n",
      "[CV 1/5; 4/20] START neuron1=500, neuron2=25....................................\n"
     ]
    },
    {
     "name": "stderr",
     "output_type": "stream",
     "text": [
      "WARNING:absl:`lr` is deprecated, please use `learning_rate` instead, or use the legacy optimizer, e.g.,tf.keras.optimizers.legacy.Adam.\n"
     ]
    },
    {
     "name": "stdout",
     "output_type": "stream",
     "text": [
      "[CV 1/5; 4/20] END .....neuron1=500, neuron2=25;, score=1.000 total time=   7.7s\n",
      "[CV 2/5; 4/20] START neuron1=500, neuron2=25....................................\n"
     ]
    },
    {
     "name": "stderr",
     "output_type": "stream",
     "text": [
      "WARNING:absl:`lr` is deprecated, please use `learning_rate` instead, or use the legacy optimizer, e.g.,tf.keras.optimizers.legacy.Adam.\n"
     ]
    },
    {
     "name": "stdout",
     "output_type": "stream",
     "text": [
      "[CV 2/5; 4/20] END .....neuron1=500, neuron2=25;, score=0.903 total time=   7.6s\n",
      "[CV 3/5; 4/20] START neuron1=500, neuron2=25....................................\n"
     ]
    },
    {
     "name": "stderr",
     "output_type": "stream",
     "text": [
      "WARNING:absl:`lr` is deprecated, please use `learning_rate` instead, or use the legacy optimizer, e.g.,tf.keras.optimizers.legacy.Adam.\n"
     ]
    },
    {
     "name": "stdout",
     "output_type": "stream",
     "text": [
      "[CV 3/5; 4/20] END .....neuron1=500, neuron2=25;, score=1.000 total time=   7.7s\n",
      "[CV 4/5; 4/20] START neuron1=500, neuron2=25....................................\n"
     ]
    },
    {
     "name": "stderr",
     "output_type": "stream",
     "text": [
      "WARNING:absl:`lr` is deprecated, please use `learning_rate` instead, or use the legacy optimizer, e.g.,tf.keras.optimizers.legacy.Adam.\n"
     ]
    },
    {
     "name": "stdout",
     "output_type": "stream",
     "text": [
      "[CV 4/5; 4/20] END .....neuron1=500, neuron2=25;, score=0.903 total time=   7.6s\n",
      "[CV 5/5; 4/20] START neuron1=500, neuron2=25....................................\n"
     ]
    },
    {
     "name": "stderr",
     "output_type": "stream",
     "text": [
      "WARNING:absl:`lr` is deprecated, please use `learning_rate` instead, or use the legacy optimizer, e.g.,tf.keras.optimizers.legacy.Adam.\n"
     ]
    },
    {
     "name": "stdout",
     "output_type": "stream",
     "text": [
      "[CV 5/5; 4/20] END .....neuron1=500, neuron2=25;, score=0.958 total time=   7.6s\n",
      "[CV 1/5; 5/20] START neuron1=350, neuron2=150...................................\n"
     ]
    },
    {
     "name": "stderr",
     "output_type": "stream",
     "text": [
      "WARNING:absl:`lr` is deprecated, please use `learning_rate` instead, or use the legacy optimizer, e.g.,tf.keras.optimizers.legacy.Adam.\n"
     ]
    },
    {
     "name": "stdout",
     "output_type": "stream",
     "text": [
      "[CV 1/5; 5/20] END ....neuron1=350, neuron2=150;, score=0.986 total time=   8.7s\n",
      "[CV 2/5; 5/20] START neuron1=350, neuron2=150...................................\n"
     ]
    },
    {
     "name": "stderr",
     "output_type": "stream",
     "text": [
      "WARNING:absl:`lr` is deprecated, please use `learning_rate` instead, or use the legacy optimizer, e.g.,tf.keras.optimizers.legacy.Adam.\n"
     ]
    },
    {
     "name": "stdout",
     "output_type": "stream",
     "text": [
      "[CV 2/5; 5/20] END ....neuron1=350, neuron2=150;, score=1.000 total time=   8.7s\n",
      "[CV 3/5; 5/20] START neuron1=350, neuron2=150...................................\n"
     ]
    },
    {
     "name": "stderr",
     "output_type": "stream",
     "text": [
      "WARNING:absl:`lr` is deprecated, please use `learning_rate` instead, or use the legacy optimizer, e.g.,tf.keras.optimizers.legacy.Adam.\n"
     ]
    },
    {
     "name": "stdout",
     "output_type": "stream",
     "text": [
      "[CV 3/5; 5/20] END ....neuron1=350, neuron2=150;, score=0.972 total time=   8.9s\n",
      "[CV 4/5; 5/20] START neuron1=350, neuron2=150...................................\n"
     ]
    },
    {
     "name": "stderr",
     "output_type": "stream",
     "text": [
      "WARNING:absl:`lr` is deprecated, please use `learning_rate` instead, or use the legacy optimizer, e.g.,tf.keras.optimizers.legacy.Adam.\n"
     ]
    },
    {
     "name": "stdout",
     "output_type": "stream",
     "text": [
      "[CV 4/5; 5/20] END ....neuron1=350, neuron2=150;, score=0.972 total time=   9.8s\n",
      "[CV 5/5; 5/20] START neuron1=350, neuron2=150...................................\n"
     ]
    },
    {
     "name": "stderr",
     "output_type": "stream",
     "text": [
      "WARNING:absl:`lr` is deprecated, please use `learning_rate` instead, or use the legacy optimizer, e.g.,tf.keras.optimizers.legacy.Adam.\n"
     ]
    },
    {
     "name": "stdout",
     "output_type": "stream",
     "text": [
      "[CV 5/5; 5/20] END ....neuron1=350, neuron2=150;, score=0.958 total time=   9.2s\n",
      "[CV 1/5; 6/20] START neuron1=350, neuron2=100...................................\n"
     ]
    },
    {
     "name": "stderr",
     "output_type": "stream",
     "text": [
      "WARNING:absl:`lr` is deprecated, please use `learning_rate` instead, or use the legacy optimizer, e.g.,tf.keras.optimizers.legacy.Adam.\n"
     ]
    },
    {
     "name": "stdout",
     "output_type": "stream",
     "text": [
      "[CV 1/5; 6/20] END ....neuron1=350, neuron2=100;, score=0.973 total time=   9.5s\n",
      "[CV 2/5; 6/20] START neuron1=350, neuron2=100...................................\n"
     ]
    },
    {
     "name": "stderr",
     "output_type": "stream",
     "text": [
      "WARNING:absl:`lr` is deprecated, please use `learning_rate` instead, or use the legacy optimizer, e.g.,tf.keras.optimizers.legacy.Adam.\n"
     ]
    },
    {
     "name": "stdout",
     "output_type": "stream",
     "text": [
      "[CV 2/5; 6/20] END ....neuron1=350, neuron2=100;, score=0.931 total time=   8.9s\n",
      "[CV 3/5; 6/20] START neuron1=350, neuron2=100...................................\n"
     ]
    },
    {
     "name": "stderr",
     "output_type": "stream",
     "text": [
      "WARNING:absl:`lr` is deprecated, please use `learning_rate` instead, or use the legacy optimizer, e.g.,tf.keras.optimizers.legacy.Adam.\n"
     ]
    },
    {
     "name": "stdout",
     "output_type": "stream",
     "text": [
      "[CV 3/5; 6/20] END ....neuron1=350, neuron2=100;, score=1.000 total time=   8.6s\n",
      "[CV 4/5; 6/20] START neuron1=350, neuron2=100...................................\n"
     ]
    },
    {
     "name": "stderr",
     "output_type": "stream",
     "text": [
      "WARNING:absl:`lr` is deprecated, please use `learning_rate` instead, or use the legacy optimizer, e.g.,tf.keras.optimizers.legacy.Adam.\n"
     ]
    },
    {
     "name": "stdout",
     "output_type": "stream",
     "text": [
      "[CV 4/5; 6/20] END ....neuron1=350, neuron2=100;, score=0.986 total time=   8.6s\n",
      "[CV 5/5; 6/20] START neuron1=350, neuron2=100...................................\n"
     ]
    },
    {
     "name": "stderr",
     "output_type": "stream",
     "text": [
      "WARNING:absl:`lr` is deprecated, please use `learning_rate` instead, or use the legacy optimizer, e.g.,tf.keras.optimizers.legacy.Adam.\n"
     ]
    },
    {
     "name": "stdout",
     "output_type": "stream",
     "text": [
      "[CV 5/5; 6/20] END ....neuron1=350, neuron2=100;, score=0.958 total time=   8.7s\n",
      "[CV 1/5; 7/20] START neuron1=350, neuron2=50....................................\n"
     ]
    },
    {
     "name": "stderr",
     "output_type": "stream",
     "text": [
      "WARNING:absl:`lr` is deprecated, please use `learning_rate` instead, or use the legacy optimizer, e.g.,tf.keras.optimizers.legacy.Adam.\n"
     ]
    },
    {
     "name": "stdout",
     "output_type": "stream",
     "text": [
      "[CV 1/5; 7/20] END .....neuron1=350, neuron2=50;, score=0.986 total time=   8.2s\n",
      "[CV 2/5; 7/20] START neuron1=350, neuron2=50....................................\n"
     ]
    },
    {
     "name": "stderr",
     "output_type": "stream",
     "text": [
      "WARNING:absl:`lr` is deprecated, please use `learning_rate` instead, or use the legacy optimizer, e.g.,tf.keras.optimizers.legacy.Adam.\n"
     ]
    },
    {
     "name": "stdout",
     "output_type": "stream",
     "text": [
      "[CV 2/5; 7/20] END .....neuron1=350, neuron2=50;, score=0.972 total time=   7.7s\n",
      "[CV 3/5; 7/20] START neuron1=350, neuron2=50....................................\n"
     ]
    },
    {
     "name": "stderr",
     "output_type": "stream",
     "text": [
      "WARNING:absl:`lr` is deprecated, please use `learning_rate` instead, or use the legacy optimizer, e.g.,tf.keras.optimizers.legacy.Adam.\n"
     ]
    },
    {
     "name": "stdout",
     "output_type": "stream",
     "text": [
      "[CV 3/5; 7/20] END .....neuron1=350, neuron2=50;, score=1.000 total time=   7.7s\n",
      "[CV 4/5; 7/20] START neuron1=350, neuron2=50....................................\n"
     ]
    },
    {
     "name": "stderr",
     "output_type": "stream",
     "text": [
      "WARNING:absl:`lr` is deprecated, please use `learning_rate` instead, or use the legacy optimizer, e.g.,tf.keras.optimizers.legacy.Adam.\n"
     ]
    },
    {
     "name": "stdout",
     "output_type": "stream",
     "text": [
      "[CV 4/5; 7/20] END .....neuron1=350, neuron2=50;, score=0.986 total time=   7.4s\n",
      "[CV 5/5; 7/20] START neuron1=350, neuron2=50....................................\n"
     ]
    },
    {
     "name": "stderr",
     "output_type": "stream",
     "text": [
      "WARNING:absl:`lr` is deprecated, please use `learning_rate` instead, or use the legacy optimizer, e.g.,tf.keras.optimizers.legacy.Adam.\n"
     ]
    },
    {
     "name": "stdout",
     "output_type": "stream",
     "text": [
      "[CV 5/5; 7/20] END .....neuron1=350, neuron2=50;, score=0.958 total time=   8.5s\n",
      "[CV 1/5; 8/20] START neuron1=350, neuron2=25....................................\n"
     ]
    },
    {
     "name": "stderr",
     "output_type": "stream",
     "text": [
      "WARNING:absl:`lr` is deprecated, please use `learning_rate` instead, or use the legacy optimizer, e.g.,tf.keras.optimizers.legacy.Adam.\n"
     ]
    },
    {
     "name": "stdout",
     "output_type": "stream",
     "text": [
      "[CV 1/5; 8/20] END .....neuron1=350, neuron2=25;, score=0.986 total time=   7.2s\n",
      "[CV 2/5; 8/20] START neuron1=350, neuron2=25....................................\n"
     ]
    },
    {
     "name": "stderr",
     "output_type": "stream",
     "text": [
      "WARNING:absl:`lr` is deprecated, please use `learning_rate` instead, or use the legacy optimizer, e.g.,tf.keras.optimizers.legacy.Adam.\n"
     ]
    },
    {
     "name": "stdout",
     "output_type": "stream",
     "text": [
      "[CV 2/5; 8/20] END .....neuron1=350, neuron2=25;, score=1.000 total time=   7.5s\n",
      "[CV 3/5; 8/20] START neuron1=350, neuron2=25....................................\n"
     ]
    },
    {
     "name": "stderr",
     "output_type": "stream",
     "text": [
      "WARNING:absl:`lr` is deprecated, please use `learning_rate` instead, or use the legacy optimizer, e.g.,tf.keras.optimizers.legacy.Adam.\n"
     ]
    },
    {
     "name": "stdout",
     "output_type": "stream",
     "text": [
      "[CV 3/5; 8/20] END .....neuron1=350, neuron2=25;, score=1.000 total time=   7.4s\n",
      "[CV 4/5; 8/20] START neuron1=350, neuron2=25....................................\n"
     ]
    },
    {
     "name": "stderr",
     "output_type": "stream",
     "text": [
      "WARNING:absl:`lr` is deprecated, please use `learning_rate` instead, or use the legacy optimizer, e.g.,tf.keras.optimizers.legacy.Adam.\n"
     ]
    },
    {
     "name": "stdout",
     "output_type": "stream",
     "text": [
      "[CV 4/5; 8/20] END .....neuron1=350, neuron2=25;, score=0.986 total time=   7.3s\n",
      "[CV 5/5; 8/20] START neuron1=350, neuron2=25....................................\n"
     ]
    },
    {
     "name": "stderr",
     "output_type": "stream",
     "text": [
      "WARNING:absl:`lr` is deprecated, please use `learning_rate` instead, or use the legacy optimizer, e.g.,tf.keras.optimizers.legacy.Adam.\n"
     ]
    },
    {
     "name": "stdout",
     "output_type": "stream",
     "text": [
      "[CV 5/5; 8/20] END .....neuron1=350, neuron2=25;, score=0.944 total time=   7.3s\n",
      "[CV 1/5; 9/20] START neuron1=150, neuron2=150...................................\n"
     ]
    },
    {
     "name": "stderr",
     "output_type": "stream",
     "text": [
      "WARNING:absl:`lr` is deprecated, please use `learning_rate` instead, or use the legacy optimizer, e.g.,tf.keras.optimizers.legacy.Adam.\n"
     ]
    },
    {
     "name": "stdout",
     "output_type": "stream",
     "text": [
      "[CV 1/5; 9/20] END ....neuron1=150, neuron2=150;, score=1.000 total time=   7.9s\n",
      "[CV 2/5; 9/20] START neuron1=150, neuron2=150...................................\n"
     ]
    },
    {
     "name": "stderr",
     "output_type": "stream",
     "text": [
      "WARNING:absl:`lr` is deprecated, please use `learning_rate` instead, or use the legacy optimizer, e.g.,tf.keras.optimizers.legacy.Adam.\n"
     ]
    },
    {
     "name": "stdout",
     "output_type": "stream",
     "text": [
      "[CV 2/5; 9/20] END ....neuron1=150, neuron2=150;, score=0.972 total time=   7.9s\n",
      "[CV 3/5; 9/20] START neuron1=150, neuron2=150...................................\n"
     ]
    },
    {
     "name": "stderr",
     "output_type": "stream",
     "text": [
      "WARNING:absl:`lr` is deprecated, please use `learning_rate` instead, or use the legacy optimizer, e.g.,tf.keras.optimizers.legacy.Adam.\n"
     ]
    },
    {
     "name": "stdout",
     "output_type": "stream",
     "text": [
      "[CV 3/5; 9/20] END ....neuron1=150, neuron2=150;, score=1.000 total time=   7.8s\n",
      "[CV 4/5; 9/20] START neuron1=150, neuron2=150...................................\n"
     ]
    },
    {
     "name": "stderr",
     "output_type": "stream",
     "text": [
      "WARNING:absl:`lr` is deprecated, please use `learning_rate` instead, or use the legacy optimizer, e.g.,tf.keras.optimizers.legacy.Adam.\n"
     ]
    },
    {
     "name": "stdout",
     "output_type": "stream",
     "text": [
      "[CV 4/5; 9/20] END ....neuron1=150, neuron2=150;, score=0.931 total time=   7.9s\n",
      "[CV 5/5; 9/20] START neuron1=150, neuron2=150...................................\n"
     ]
    },
    {
     "name": "stderr",
     "output_type": "stream",
     "text": [
      "WARNING:absl:`lr` is deprecated, please use `learning_rate` instead, or use the legacy optimizer, e.g.,tf.keras.optimizers.legacy.Adam.\n"
     ]
    },
    {
     "name": "stdout",
     "output_type": "stream",
     "text": [
      "[CV 5/5; 9/20] END ....neuron1=150, neuron2=150;, score=0.958 total time=   7.4s\n",
      "[CV 1/5; 10/20] START neuron1=150, neuron2=100..................................\n"
     ]
    },
    {
     "name": "stderr",
     "output_type": "stream",
     "text": [
      "WARNING:absl:`lr` is deprecated, please use `learning_rate` instead, or use the legacy optimizer, e.g.,tf.keras.optimizers.legacy.Adam.\n"
     ]
    },
    {
     "name": "stdout",
     "output_type": "stream",
     "text": [
      "[CV 1/5; 10/20] END ...neuron1=150, neuron2=100;, score=0.986 total time=   7.8s\n",
      "[CV 2/5; 10/20] START neuron1=150, neuron2=100..................................\n"
     ]
    },
    {
     "name": "stderr",
     "output_type": "stream",
     "text": [
      "WARNING:absl:`lr` is deprecated, please use `learning_rate` instead, or use the legacy optimizer, e.g.,tf.keras.optimizers.legacy.Adam.\n"
     ]
    },
    {
     "name": "stdout",
     "output_type": "stream",
     "text": [
      "[CV 2/5; 10/20] END ...neuron1=150, neuron2=100;, score=0.972 total time=   7.3s\n",
      "[CV 3/5; 10/20] START neuron1=150, neuron2=100..................................\n"
     ]
    },
    {
     "name": "stderr",
     "output_type": "stream",
     "text": [
      "WARNING:absl:`lr` is deprecated, please use `learning_rate` instead, or use the legacy optimizer, e.g.,tf.keras.optimizers.legacy.Adam.\n"
     ]
    },
    {
     "name": "stdout",
     "output_type": "stream",
     "text": [
      "[CV 3/5; 10/20] END ...neuron1=150, neuron2=100;, score=0.972 total time=   7.6s\n",
      "[CV 4/5; 10/20] START neuron1=150, neuron2=100..................................\n"
     ]
    },
    {
     "name": "stderr",
     "output_type": "stream",
     "text": [
      "WARNING:absl:`lr` is deprecated, please use `learning_rate` instead, or use the legacy optimizer, e.g.,tf.keras.optimizers.legacy.Adam.\n"
     ]
    },
    {
     "name": "stdout",
     "output_type": "stream",
     "text": [
      "[CV 4/5; 10/20] END ...neuron1=150, neuron2=100;, score=0.986 total time=   7.5s\n",
      "[CV 5/5; 10/20] START neuron1=150, neuron2=100..................................\n"
     ]
    },
    {
     "name": "stderr",
     "output_type": "stream",
     "text": [
      "WARNING:absl:`lr` is deprecated, please use `learning_rate` instead, or use the legacy optimizer, e.g.,tf.keras.optimizers.legacy.Adam.\n"
     ]
    },
    {
     "name": "stdout",
     "output_type": "stream",
     "text": [
      "[CV 5/5; 10/20] END ...neuron1=150, neuron2=100;, score=0.958 total time=   7.3s\n",
      "[CV 1/5; 11/20] START neuron1=150, neuron2=50...................................\n"
     ]
    },
    {
     "name": "stderr",
     "output_type": "stream",
     "text": [
      "WARNING:absl:`lr` is deprecated, please use `learning_rate` instead, or use the legacy optimizer, e.g.,tf.keras.optimizers.legacy.Adam.\n"
     ]
    },
    {
     "name": "stdout",
     "output_type": "stream",
     "text": [
      "[CV 1/5; 11/20] END ....neuron1=150, neuron2=50;, score=0.986 total time=   6.8s\n",
      "[CV 2/5; 11/20] START neuron1=150, neuron2=50...................................\n"
     ]
    },
    {
     "name": "stderr",
     "output_type": "stream",
     "text": [
      "WARNING:absl:`lr` is deprecated, please use `learning_rate` instead, or use the legacy optimizer, e.g.,tf.keras.optimizers.legacy.Adam.\n"
     ]
    },
    {
     "name": "stdout",
     "output_type": "stream",
     "text": [
      "[CV 2/5; 11/20] END ....neuron1=150, neuron2=50;, score=0.986 total time=   6.8s\n",
      "[CV 3/5; 11/20] START neuron1=150, neuron2=50...................................\n"
     ]
    },
    {
     "name": "stderr",
     "output_type": "stream",
     "text": [
      "WARNING:absl:`lr` is deprecated, please use `learning_rate` instead, or use the legacy optimizer, e.g.,tf.keras.optimizers.legacy.Adam.\n"
     ]
    },
    {
     "name": "stdout",
     "output_type": "stream",
     "text": [
      "[CV 3/5; 11/20] END ....neuron1=150, neuron2=50;, score=0.986 total time=   6.7s\n",
      "[CV 4/5; 11/20] START neuron1=150, neuron2=50...................................\n"
     ]
    },
    {
     "name": "stderr",
     "output_type": "stream",
     "text": [
      "WARNING:absl:`lr` is deprecated, please use `learning_rate` instead, or use the legacy optimizer, e.g.,tf.keras.optimizers.legacy.Adam.\n"
     ]
    },
    {
     "name": "stdout",
     "output_type": "stream",
     "text": [
      "[CV 4/5; 11/20] END ....neuron1=150, neuron2=50;, score=0.986 total time=   6.6s\n",
      "[CV 5/5; 11/20] START neuron1=150, neuron2=50...................................\n"
     ]
    },
    {
     "name": "stderr",
     "output_type": "stream",
     "text": [
      "WARNING:absl:`lr` is deprecated, please use `learning_rate` instead, or use the legacy optimizer, e.g.,tf.keras.optimizers.legacy.Adam.\n"
     ]
    },
    {
     "name": "stdout",
     "output_type": "stream",
     "text": [
      "[CV 5/5; 11/20] END ....neuron1=150, neuron2=50;, score=0.958 total time=   6.7s\n",
      "[CV 1/5; 12/20] START neuron1=150, neuron2=25...................................\n"
     ]
    },
    {
     "name": "stderr",
     "output_type": "stream",
     "text": [
      "WARNING:absl:`lr` is deprecated, please use `learning_rate` instead, or use the legacy optimizer, e.g.,tf.keras.optimizers.legacy.Adam.\n"
     ]
    },
    {
     "name": "stdout",
     "output_type": "stream",
     "text": [
      "[CV 1/5; 12/20] END ....neuron1=150, neuron2=25;, score=0.973 total time=   6.4s\n",
      "[CV 2/5; 12/20] START neuron1=150, neuron2=25...................................\n"
     ]
    },
    {
     "name": "stderr",
     "output_type": "stream",
     "text": [
      "WARNING:absl:`lr` is deprecated, please use `learning_rate` instead, or use the legacy optimizer, e.g.,tf.keras.optimizers.legacy.Adam.\n"
     ]
    },
    {
     "name": "stdout",
     "output_type": "stream",
     "text": [
      "[CV 2/5; 12/20] END ....neuron1=150, neuron2=25;, score=0.972 total time=   7.0s\n",
      "[CV 3/5; 12/20] START neuron1=150, neuron2=25...................................\n"
     ]
    },
    {
     "name": "stderr",
     "output_type": "stream",
     "text": [
      "WARNING:absl:`lr` is deprecated, please use `learning_rate` instead, or use the legacy optimizer, e.g.,tf.keras.optimizers.legacy.Adam.\n"
     ]
    },
    {
     "name": "stdout",
     "output_type": "stream",
     "text": [
      "[CV 3/5; 12/20] END ....neuron1=150, neuron2=25;, score=0.986 total time=   6.5s\n",
      "[CV 4/5; 12/20] START neuron1=150, neuron2=25...................................\n"
     ]
    },
    {
     "name": "stderr",
     "output_type": "stream",
     "text": [
      "WARNING:absl:`lr` is deprecated, please use `learning_rate` instead, or use the legacy optimizer, e.g.,tf.keras.optimizers.legacy.Adam.\n"
     ]
    },
    {
     "name": "stdout",
     "output_type": "stream",
     "text": [
      "[CV 4/5; 12/20] END ....neuron1=150, neuron2=25;, score=0.889 total time=   6.4s\n",
      "[CV 5/5; 12/20] START neuron1=150, neuron2=25...................................\n"
     ]
    },
    {
     "name": "stderr",
     "output_type": "stream",
     "text": [
      "WARNING:absl:`lr` is deprecated, please use `learning_rate` instead, or use the legacy optimizer, e.g.,tf.keras.optimizers.legacy.Adam.\n"
     ]
    },
    {
     "name": "stdout",
     "output_type": "stream",
     "text": [
      "[CV 5/5; 12/20] END ....neuron1=150, neuron2=25;, score=0.958 total time=   6.4s\n",
      "[CV 1/5; 13/20] START neuron1=100, neuron2=150..................................\n"
     ]
    },
    {
     "name": "stderr",
     "output_type": "stream",
     "text": [
      "WARNING:absl:`lr` is deprecated, please use `learning_rate` instead, or use the legacy optimizer, e.g.,tf.keras.optimizers.legacy.Adam.\n"
     ]
    },
    {
     "name": "stdout",
     "output_type": "stream",
     "text": [
      "[CV 1/5; 13/20] END ...neuron1=100, neuron2=150;, score=1.000 total time=   7.1s\n",
      "[CV 2/5; 13/20] START neuron1=100, neuron2=150..................................\n"
     ]
    },
    {
     "name": "stderr",
     "output_type": "stream",
     "text": [
      "WARNING:absl:`lr` is deprecated, please use `learning_rate` instead, or use the legacy optimizer, e.g.,tf.keras.optimizers.legacy.Adam.\n"
     ]
    },
    {
     "name": "stdout",
     "output_type": "stream",
     "text": [
      "[CV 2/5; 13/20] END ...neuron1=100, neuron2=150;, score=0.986 total time=   7.1s\n",
      "[CV 3/5; 13/20] START neuron1=100, neuron2=150..................................\n"
     ]
    },
    {
     "name": "stderr",
     "output_type": "stream",
     "text": [
      "WARNING:absl:`lr` is deprecated, please use `learning_rate` instead, or use the legacy optimizer, e.g.,tf.keras.optimizers.legacy.Adam.\n"
     ]
    },
    {
     "name": "stdout",
     "output_type": "stream",
     "text": [
      "[CV 3/5; 13/20] END ...neuron1=100, neuron2=150;, score=0.986 total time=   7.0s\n",
      "[CV 4/5; 13/20] START neuron1=100, neuron2=150..................................\n"
     ]
    },
    {
     "name": "stderr",
     "output_type": "stream",
     "text": [
      "WARNING:absl:`lr` is deprecated, please use `learning_rate` instead, or use the legacy optimizer, e.g.,tf.keras.optimizers.legacy.Adam.\n"
     ]
    },
    {
     "name": "stdout",
     "output_type": "stream",
     "text": [
      "[CV 4/5; 13/20] END ...neuron1=100, neuron2=150;, score=0.972 total time=   7.0s\n",
      "[CV 5/5; 13/20] START neuron1=100, neuron2=150..................................\n"
     ]
    },
    {
     "name": "stderr",
     "output_type": "stream",
     "text": [
      "WARNING:absl:`lr` is deprecated, please use `learning_rate` instead, or use the legacy optimizer, e.g.,tf.keras.optimizers.legacy.Adam.\n"
     ]
    },
    {
     "name": "stdout",
     "output_type": "stream",
     "text": [
      "[CV 5/5; 13/20] END ...neuron1=100, neuron2=150;, score=0.958 total time=   7.1s\n",
      "[CV 1/5; 14/20] START neuron1=100, neuron2=100..................................\n"
     ]
    },
    {
     "name": "stderr",
     "output_type": "stream",
     "text": [
      "WARNING:absl:`lr` is deprecated, please use `learning_rate` instead, or use the legacy optimizer, e.g.,tf.keras.optimizers.legacy.Adam.\n"
     ]
    },
    {
     "name": "stdout",
     "output_type": "stream",
     "text": [
      "[CV 1/5; 14/20] END ...neuron1=100, neuron2=100;, score=0.959 total time=   6.6s\n",
      "[CV 2/5; 14/20] START neuron1=100, neuron2=100..................................\n"
     ]
    },
    {
     "name": "stderr",
     "output_type": "stream",
     "text": [
      "WARNING:absl:`lr` is deprecated, please use `learning_rate` instead, or use the legacy optimizer, e.g.,tf.keras.optimizers.legacy.Adam.\n"
     ]
    },
    {
     "name": "stdout",
     "output_type": "stream",
     "text": [
      "[CV 2/5; 14/20] END ...neuron1=100, neuron2=100;, score=1.000 total time=   6.5s\n",
      "[CV 3/5; 14/20] START neuron1=100, neuron2=100..................................\n"
     ]
    },
    {
     "name": "stderr",
     "output_type": "stream",
     "text": [
      "WARNING:absl:`lr` is deprecated, please use `learning_rate` instead, or use the legacy optimizer, e.g.,tf.keras.optimizers.legacy.Adam.\n"
     ]
    },
    {
     "name": "stdout",
     "output_type": "stream",
     "text": [
      "[CV 3/5; 14/20] END ...neuron1=100, neuron2=100;, score=0.986 total time=   6.5s\n",
      "[CV 4/5; 14/20] START neuron1=100, neuron2=100..................................\n"
     ]
    },
    {
     "name": "stderr",
     "output_type": "stream",
     "text": [
      "WARNING:absl:`lr` is deprecated, please use `learning_rate` instead, or use the legacy optimizer, e.g.,tf.keras.optimizers.legacy.Adam.\n"
     ]
    },
    {
     "name": "stdout",
     "output_type": "stream",
     "text": [
      "[CV 4/5; 14/20] END ...neuron1=100, neuron2=100;, score=0.958 total time=   7.3s\n",
      "[CV 5/5; 14/20] START neuron1=100, neuron2=100..................................\n"
     ]
    },
    {
     "name": "stderr",
     "output_type": "stream",
     "text": [
      "WARNING:absl:`lr` is deprecated, please use `learning_rate` instead, or use the legacy optimizer, e.g.,tf.keras.optimizers.legacy.Adam.\n"
     ]
    },
    {
     "name": "stdout",
     "output_type": "stream",
     "text": [
      "[CV 5/5; 14/20] END ...neuron1=100, neuron2=100;, score=0.958 total time=   6.8s\n",
      "[CV 1/5; 15/20] START neuron1=100, neuron2=50...................................\n"
     ]
    },
    {
     "name": "stderr",
     "output_type": "stream",
     "text": [
      "WARNING:absl:`lr` is deprecated, please use `learning_rate` instead, or use the legacy optimizer, e.g.,tf.keras.optimizers.legacy.Adam.\n"
     ]
    },
    {
     "name": "stdout",
     "output_type": "stream",
     "text": [
      "[CV 1/5; 15/20] END ....neuron1=100, neuron2=50;, score=0.986 total time=   6.5s\n",
      "[CV 2/5; 15/20] START neuron1=100, neuron2=50...................................\n"
     ]
    },
    {
     "name": "stderr",
     "output_type": "stream",
     "text": [
      "WARNING:absl:`lr` is deprecated, please use `learning_rate` instead, or use the legacy optimizer, e.g.,tf.keras.optimizers.legacy.Adam.\n"
     ]
    },
    {
     "name": "stdout",
     "output_type": "stream",
     "text": [
      "[CV 2/5; 15/20] END ....neuron1=100, neuron2=50;, score=0.958 total time=   6.3s\n",
      "[CV 3/5; 15/20] START neuron1=100, neuron2=50...................................\n"
     ]
    },
    {
     "name": "stderr",
     "output_type": "stream",
     "text": [
      "WARNING:absl:`lr` is deprecated, please use `learning_rate` instead, or use the legacy optimizer, e.g.,tf.keras.optimizers.legacy.Adam.\n"
     ]
    },
    {
     "name": "stdout",
     "output_type": "stream",
     "text": [
      "[CV 3/5; 15/20] END ....neuron1=100, neuron2=50;, score=1.000 total time=   6.3s\n",
      "[CV 4/5; 15/20] START neuron1=100, neuron2=50...................................\n"
     ]
    },
    {
     "name": "stderr",
     "output_type": "stream",
     "text": [
      "WARNING:absl:`lr` is deprecated, please use `learning_rate` instead, or use the legacy optimizer, e.g.,tf.keras.optimizers.legacy.Adam.\n"
     ]
    },
    {
     "name": "stdout",
     "output_type": "stream",
     "text": [
      "[CV 4/5; 15/20] END ....neuron1=100, neuron2=50;, score=0.986 total time=   6.5s\n",
      "[CV 5/5; 15/20] START neuron1=100, neuron2=50...................................\n"
     ]
    },
    {
     "name": "stderr",
     "output_type": "stream",
     "text": [
      "WARNING:absl:`lr` is deprecated, please use `learning_rate` instead, or use the legacy optimizer, e.g.,tf.keras.optimizers.legacy.Adam.\n"
     ]
    },
    {
     "name": "stdout",
     "output_type": "stream",
     "text": [
      "[CV 5/5; 15/20] END ....neuron1=100, neuron2=50;, score=0.958 total time=   6.4s\n",
      "[CV 1/5; 16/20] START neuron1=100, neuron2=25...................................\n"
     ]
    },
    {
     "name": "stderr",
     "output_type": "stream",
     "text": [
      "WARNING:absl:`lr` is deprecated, please use `learning_rate` instead, or use the legacy optimizer, e.g.,tf.keras.optimizers.legacy.Adam.\n"
     ]
    },
    {
     "name": "stdout",
     "output_type": "stream",
     "text": [
      "[CV 1/5; 16/20] END ....neuron1=100, neuron2=25;, score=0.986 total time=   6.3s\n",
      "[CV 2/5; 16/20] START neuron1=100, neuron2=25...................................\n"
     ]
    },
    {
     "name": "stderr",
     "output_type": "stream",
     "text": [
      "WARNING:absl:`lr` is deprecated, please use `learning_rate` instead, or use the legacy optimizer, e.g.,tf.keras.optimizers.legacy.Adam.\n"
     ]
    },
    {
     "name": "stdout",
     "output_type": "stream",
     "text": [
      "[CV 2/5; 16/20] END ....neuron1=100, neuron2=25;, score=0.958 total time=   6.2s\n",
      "[CV 3/5; 16/20] START neuron1=100, neuron2=25...................................\n"
     ]
    },
    {
     "name": "stderr",
     "output_type": "stream",
     "text": [
      "WARNING:absl:`lr` is deprecated, please use `learning_rate` instead, or use the legacy optimizer, e.g.,tf.keras.optimizers.legacy.Adam.\n"
     ]
    },
    {
     "name": "stdout",
     "output_type": "stream",
     "text": [
      "[CV 3/5; 16/20] END ....neuron1=100, neuron2=25;, score=1.000 total time=   6.4s\n",
      "[CV 4/5; 16/20] START neuron1=100, neuron2=25...................................\n"
     ]
    },
    {
     "name": "stderr",
     "output_type": "stream",
     "text": [
      "WARNING:absl:`lr` is deprecated, please use `learning_rate` instead, or use the legacy optimizer, e.g.,tf.keras.optimizers.legacy.Adam.\n"
     ]
    },
    {
     "name": "stdout",
     "output_type": "stream",
     "text": [
      "[CV 4/5; 16/20] END ....neuron1=100, neuron2=25;, score=0.986 total time=   6.3s\n",
      "[CV 5/5; 16/20] START neuron1=100, neuron2=25...................................\n"
     ]
    },
    {
     "name": "stderr",
     "output_type": "stream",
     "text": [
      "WARNING:absl:`lr` is deprecated, please use `learning_rate` instead, or use the legacy optimizer, e.g.,tf.keras.optimizers.legacy.Adam.\n"
     ]
    },
    {
     "name": "stdout",
     "output_type": "stream",
     "text": [
      "[CV 5/5; 16/20] END ....neuron1=100, neuron2=25;, score=0.958 total time=   6.3s\n",
      "[CV 1/5; 17/20] START neuron1=50, neuron2=150...................................\n"
     ]
    },
    {
     "name": "stderr",
     "output_type": "stream",
     "text": [
      "WARNING:absl:`lr` is deprecated, please use `learning_rate` instead, or use the legacy optimizer, e.g.,tf.keras.optimizers.legacy.Adam.\n"
     ]
    },
    {
     "name": "stdout",
     "output_type": "stream",
     "text": [
      "[CV 1/5; 17/20] END ....neuron1=50, neuron2=150;, score=0.973 total time=   7.0s\n",
      "[CV 2/5; 17/20] START neuron1=50, neuron2=150...................................\n"
     ]
    },
    {
     "name": "stderr",
     "output_type": "stream",
     "text": [
      "WARNING:absl:`lr` is deprecated, please use `learning_rate` instead, or use the legacy optimizer, e.g.,tf.keras.optimizers.legacy.Adam.\n"
     ]
    },
    {
     "name": "stdout",
     "output_type": "stream",
     "text": [
      "[CV 2/5; 17/20] END ....neuron1=50, neuron2=150;, score=0.972 total time=   6.6s\n",
      "[CV 3/5; 17/20] START neuron1=50, neuron2=150...................................\n"
     ]
    },
    {
     "name": "stderr",
     "output_type": "stream",
     "text": [
      "WARNING:absl:`lr` is deprecated, please use `learning_rate` instead, or use the legacy optimizer, e.g.,tf.keras.optimizers.legacy.Adam.\n"
     ]
    },
    {
     "name": "stdout",
     "output_type": "stream",
     "text": [
      "[CV 3/5; 17/20] END ....neuron1=50, neuron2=150;, score=0.972 total time=   6.6s\n",
      "[CV 4/5; 17/20] START neuron1=50, neuron2=150...................................\n"
     ]
    },
    {
     "name": "stderr",
     "output_type": "stream",
     "text": [
      "WARNING:absl:`lr` is deprecated, please use `learning_rate` instead, or use the legacy optimizer, e.g.,tf.keras.optimizers.legacy.Adam.\n"
     ]
    },
    {
     "name": "stdout",
     "output_type": "stream",
     "text": [
      "[CV 4/5; 17/20] END ....neuron1=50, neuron2=150;, score=0.986 total time=   6.6s\n",
      "[CV 5/5; 17/20] START neuron1=50, neuron2=150...................................\n"
     ]
    },
    {
     "name": "stderr",
     "output_type": "stream",
     "text": [
      "WARNING:absl:`lr` is deprecated, please use `learning_rate` instead, or use the legacy optimizer, e.g.,tf.keras.optimizers.legacy.Adam.\n"
     ]
    },
    {
     "name": "stdout",
     "output_type": "stream",
     "text": [
      "[CV 5/5; 17/20] END ....neuron1=50, neuron2=150;, score=0.958 total time=   6.6s\n",
      "[CV 1/5; 18/20] START neuron1=50, neuron2=100...................................\n"
     ]
    },
    {
     "name": "stderr",
     "output_type": "stream",
     "text": [
      "WARNING:absl:`lr` is deprecated, please use `learning_rate` instead, or use the legacy optimizer, e.g.,tf.keras.optimizers.legacy.Adam.\n"
     ]
    },
    {
     "name": "stdout",
     "output_type": "stream",
     "text": [
      "[CV 1/5; 18/20] END ....neuron1=50, neuron2=100;, score=0.986 total time=   6.5s\n",
      "[CV 2/5; 18/20] START neuron1=50, neuron2=100...................................\n"
     ]
    },
    {
     "name": "stderr",
     "output_type": "stream",
     "text": [
      "WARNING:absl:`lr` is deprecated, please use `learning_rate` instead, or use the legacy optimizer, e.g.,tf.keras.optimizers.legacy.Adam.\n"
     ]
    },
    {
     "name": "stdout",
     "output_type": "stream",
     "text": [
      "[CV 2/5; 18/20] END ....neuron1=50, neuron2=100;, score=1.000 total time=   6.5s\n",
      "[CV 3/5; 18/20] START neuron1=50, neuron2=100...................................\n"
     ]
    },
    {
     "name": "stderr",
     "output_type": "stream",
     "text": [
      "WARNING:absl:`lr` is deprecated, please use `learning_rate` instead, or use the legacy optimizer, e.g.,tf.keras.optimizers.legacy.Adam.\n"
     ]
    },
    {
     "name": "stdout",
     "output_type": "stream",
     "text": [
      "[CV 3/5; 18/20] END ....neuron1=50, neuron2=100;, score=1.000 total time=   6.2s\n",
      "[CV 4/5; 18/20] START neuron1=50, neuron2=100...................................\n"
     ]
    },
    {
     "name": "stderr",
     "output_type": "stream",
     "text": [
      "WARNING:absl:`lr` is deprecated, please use `learning_rate` instead, or use the legacy optimizer, e.g.,tf.keras.optimizers.legacy.Adam.\n"
     ]
    },
    {
     "name": "stdout",
     "output_type": "stream",
     "text": [
      "[CV 4/5; 18/20] END ....neuron1=50, neuron2=100;, score=0.972 total time=   6.4s\n",
      "[CV 5/5; 18/20] START neuron1=50, neuron2=100...................................\n"
     ]
    },
    {
     "name": "stderr",
     "output_type": "stream",
     "text": [
      "WARNING:absl:`lr` is deprecated, please use `learning_rate` instead, or use the legacy optimizer, e.g.,tf.keras.optimizers.legacy.Adam.\n"
     ]
    },
    {
     "name": "stdout",
     "output_type": "stream",
     "text": [
      "[CV 5/5; 18/20] END ....neuron1=50, neuron2=100;, score=0.958 total time=   6.3s\n",
      "[CV 1/5; 19/20] START neuron1=50, neuron2=50....................................\n"
     ]
    },
    {
     "name": "stderr",
     "output_type": "stream",
     "text": [
      "WARNING:absl:`lr` is deprecated, please use `learning_rate` instead, or use the legacy optimizer, e.g.,tf.keras.optimizers.legacy.Adam.\n"
     ]
    },
    {
     "name": "stdout",
     "output_type": "stream",
     "text": [
      "[CV 1/5; 19/20] END .....neuron1=50, neuron2=50;, score=0.986 total time=   6.2s\n",
      "[CV 2/5; 19/20] START neuron1=50, neuron2=50....................................\n"
     ]
    },
    {
     "name": "stderr",
     "output_type": "stream",
     "text": [
      "WARNING:absl:`lr` is deprecated, please use `learning_rate` instead, or use the legacy optimizer, e.g.,tf.keras.optimizers.legacy.Adam.\n"
     ]
    },
    {
     "name": "stdout",
     "output_type": "stream",
     "text": [
      "[CV 2/5; 19/20] END .....neuron1=50, neuron2=50;, score=0.986 total time=   6.7s\n",
      "[CV 3/5; 19/20] START neuron1=50, neuron2=50....................................\n"
     ]
    },
    {
     "name": "stderr",
     "output_type": "stream",
     "text": [
      "WARNING:absl:`lr` is deprecated, please use `learning_rate` instead, or use the legacy optimizer, e.g.,tf.keras.optimizers.legacy.Adam.\n"
     ]
    },
    {
     "name": "stdout",
     "output_type": "stream",
     "text": [
      "[CV 3/5; 19/20] END .....neuron1=50, neuron2=50;, score=1.000 total time=   6.2s\n",
      "[CV 4/5; 19/20] START neuron1=50, neuron2=50....................................\n"
     ]
    },
    {
     "name": "stderr",
     "output_type": "stream",
     "text": [
      "WARNING:absl:`lr` is deprecated, please use `learning_rate` instead, or use the legacy optimizer, e.g.,tf.keras.optimizers.legacy.Adam.\n"
     ]
    },
    {
     "name": "stdout",
     "output_type": "stream",
     "text": [
      "[CV 4/5; 19/20] END .....neuron1=50, neuron2=50;, score=0.986 total time=   6.3s\n",
      "[CV 5/5; 19/20] START neuron1=50, neuron2=50....................................\n"
     ]
    },
    {
     "name": "stderr",
     "output_type": "stream",
     "text": [
      "WARNING:absl:`lr` is deprecated, please use `learning_rate` instead, or use the legacy optimizer, e.g.,tf.keras.optimizers.legacy.Adam.\n"
     ]
    },
    {
     "name": "stdout",
     "output_type": "stream",
     "text": [
      "[CV 5/5; 19/20] END .....neuron1=50, neuron2=50;, score=0.944 total time=   6.4s\n",
      "[CV 1/5; 20/20] START neuron1=50, neuron2=25....................................\n"
     ]
    },
    {
     "name": "stderr",
     "output_type": "stream",
     "text": [
      "WARNING:absl:`lr` is deprecated, please use `learning_rate` instead, or use the legacy optimizer, e.g.,tf.keras.optimizers.legacy.Adam.\n"
     ]
    },
    {
     "name": "stdout",
     "output_type": "stream",
     "text": [
      "[CV 1/5; 20/20] END .....neuron1=50, neuron2=25;, score=0.986 total time=   6.4s\n",
      "[CV 2/5; 20/20] START neuron1=50, neuron2=25....................................\n"
     ]
    },
    {
     "name": "stderr",
     "output_type": "stream",
     "text": [
      "WARNING:absl:`lr` is deprecated, please use `learning_rate` instead, or use the legacy optimizer, e.g.,tf.keras.optimizers.legacy.Adam.\n"
     ]
    },
    {
     "name": "stdout",
     "output_type": "stream",
     "text": [
      "[CV 2/5; 20/20] END .....neuron1=50, neuron2=25;, score=0.972 total time=   6.3s\n",
      "[CV 3/5; 20/20] START neuron1=50, neuron2=25....................................\n"
     ]
    },
    {
     "name": "stderr",
     "output_type": "stream",
     "text": [
      "WARNING:absl:`lr` is deprecated, please use `learning_rate` instead, or use the legacy optimizer, e.g.,tf.keras.optimizers.legacy.Adam.\n"
     ]
    },
    {
     "name": "stdout",
     "output_type": "stream",
     "text": [
      "[CV 3/5; 20/20] END .....neuron1=50, neuron2=25;, score=0.986 total time=   6.3s\n",
      "[CV 4/5; 20/20] START neuron1=50, neuron2=25....................................\n"
     ]
    },
    {
     "name": "stderr",
     "output_type": "stream",
     "text": [
      "WARNING:absl:`lr` is deprecated, please use `learning_rate` instead, or use the legacy optimizer, e.g.,tf.keras.optimizers.legacy.Adam.\n"
     ]
    },
    {
     "name": "stdout",
     "output_type": "stream",
     "text": [
      "[CV 4/5; 20/20] END .....neuron1=50, neuron2=25;, score=0.986 total time=   6.1s\n",
      "[CV 5/5; 20/20] START neuron1=50, neuron2=25....................................\n"
     ]
    },
    {
     "name": "stderr",
     "output_type": "stream",
     "text": [
      "WARNING:absl:`lr` is deprecated, please use `learning_rate` instead, or use the legacy optimizer, e.g.,tf.keras.optimizers.legacy.Adam.\n"
     ]
    },
    {
     "name": "stdout",
     "output_type": "stream",
     "text": [
      "[CV 5/5; 20/20] END .....neuron1=50, neuron2=25;, score=0.958 total time=   6.2s\n"
     ]
    }
   ],
   "source": [
    "def create_model(neuron1,neuron2):\n",
    "    model = Sequential()\n",
    "    model.add(Dense(neuron1,input_dim = 30,kernel_initializer = 'uniform',activation = 'tanh'))\n",
    "    model.add(Dense(neuron2,input_dim = 30,kernel_initializer = 'uniform',activation = 'tanh'))\n",
    "    model.add(Dense(1,activation = 'sigmoid'))\n",
    "    \n",
    "    adam = Adam(lr = 0.001)\n",
    "    model.compile(loss = 'binary_crossentropy',optimizer = adam,metrics = ['accuracy'])\n",
    "    return model\n",
    "\n",
    "# Create the model\n",
    "\n",
    "model = KerasClassifier(build_fn = create_model,verbose = 0,batch_size = 10,epochs = 100)\n",
    "\n",
    "# Define the grid search parameters\n",
    "\n",
    "neuron1 = [500,350,150,100,50]\n",
    "neuron2 = [150,100,50,25]\n",
    "\n",
    "# Make a dictionary of the grid search parameters\n",
    "\n",
    "param_grids = dict(neuron1 = neuron1,neuron2 = neuron2)\n",
    "\n",
    "# Build and fit the GridSearchCV\n",
    "\n",
    "grid = GridSearchCV(estimator = model,param_grid = param_grids,cv = KFold(),verbose = 10)\n",
    "grid_result = grid.fit(X_train,y_train)\n"
   ]
  },
  {
   "cell_type": "code",
   "execution_count": 17,
   "id": "d403c761",
   "metadata": {},
   "outputs": [
    {
     "name": "stdout",
     "output_type": "stream",
     "text": [
      "Best : 0.983371376991272, using {'neuron1': 350, 'neuron2': 25}\n"
     ]
    }
   ],
   "source": [
    "# Summarize the results\n",
    "print('Best : {}, using {}'.format(grid_result.best_score_,grid_result.best_params_))"
   ]
  },
  {
   "cell_type": "code",
   "execution_count": 22,
   "id": "b875e36a",
   "metadata": {},
   "outputs": [
    {
     "name": "stderr",
     "output_type": "stream",
     "text": [
      "WARNING:absl:`lr` is deprecated, please use `learning_rate` instead, or use the legacy optimizer, e.g.,tf.keras.optimizers.legacy.Adam.\n"
     ]
    },
    {
     "name": "stdout",
     "output_type": "stream",
     "text": [
      "5/5 [==============================] - 0s 2ms/step\n",
      "0.967948717948718\n"
     ]
    }
   ],
   "source": [
    "from sklearn.metrics import accuracy_score\n",
    "def create_model():\n",
    "    model = Sequential()\n",
    "    model.add(Dense(350,input_dim = 30,kernel_initializer = 'uniform',activation = 'tanh'))\n",
    "    model.add(Dense(25,kernel_initializer = 'uniform',activation = 'sigmoid'))\n",
    "    model.add(Dense(1,activation = 'sigmoid'))\n",
    "    \n",
    "    adam = Adam(lr = 0.001)\n",
    "    model.compile(loss = 'binary_crossentropy',optimizer = adam,metrics = ['accuracy'])\n",
    "    return model\n",
    "\n",
    "model = KerasClassifier(build_fn = create_model,verbose = 0,batch_size = 10,epochs = 100)\n",
    "\n",
    "# Fitting the model\n",
    "\n",
    "model.fit(X_train,y_train)\n",
    "\n",
    "# Predicting using trained model\n",
    "\n",
    "y_predict = model.predict(X_test)\n",
    "\n",
    "# Printing the metrics\n",
    "print(accuracy_score(y_test,y_predict))"
   ]
  }
 ],
 "metadata": {
  "kernelspec": {
   "display_name": "Python 3 (ipykernel)",
   "language": "python",
   "name": "python3"
  },
  "language_info": {
   "codemirror_mode": {
    "name": "ipython",
    "version": 3
   },
   "file_extension": ".py",
   "mimetype": "text/x-python",
   "name": "python",
   "nbconvert_exporter": "python",
   "pygments_lexer": "ipython3",
   "version": "3.9.13"
  }
 },
 "nbformat": 4,
 "nbformat_minor": 5
}
